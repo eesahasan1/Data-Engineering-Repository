{
 "cells": [
  {
   "cell_type": "code",
   "execution_count": 1,
   "id": "d22e99ef-496a-4868-9269-f7f1eb7c2cc5",
   "metadata": {},
   "outputs": [
    {
     "name": "stderr",
     "output_type": "stream",
     "text": [
      "Setting default log level to \"WARN\".\n",
      "To adjust logging level use sc.setLogLevel(newLevel). For SparkR, use setLogLevel(newLevel).\n"
     ]
    },
    {
     "name": "stdout",
     "output_type": "stream",
     "text": [
      "24/03/08 00:12:41 WARN NativeCodeLoader: Unable to load native-hadoop library for your platform... using builtin-java classes where applicable\n",
      "24/03/08 00:12:42 WARN Utils: Service 'SparkUI' could not bind on port 4040. Attempting port 4041.\n",
      "24/03/08 00:12:42 WARN Utils: Service 'SparkUI' could not bind on port 4041. Attempting port 4042.\n"
     ]
    }
   ],
   "source": [
    "import pyspark\n",
    "from pyspark.sql import SparkSession\n",
    "\n",
    "spark = SparkSession.builder \\\n",
    "    .master(\"local[*]\") \\\n",
    "    .appName('test') \\\n",
    "    .getOrCreate()"
   ]
  },
  {
   "cell_type": "code",
   "execution_count": 2,
   "id": "c3c1ce69-876a-47dc-8499-426c0a35992b",
   "metadata": {},
   "outputs": [
    {
     "name": "stderr",
     "output_type": "stream",
     "text": [
      "                                                                                \r"
     ]
    }
   ],
   "source": [
    "df_green = spark.read.parquet('data/pq/green/*/*')"
   ]
  },
  {
   "cell_type": "code",
   "execution_count": 3,
   "id": "1dfa3eda-434d-44e7-88fa-f35525f00a23",
   "metadata": {},
   "outputs": [
    {
     "name": "stderr",
     "output_type": "stream",
     "text": [
      "/home/gzuz/spark/spark-3.3.2-bin-hadoop3/python/pyspark/sql/dataframe.py:229: FutureWarning: Deprecated in 2.0, use createOrReplaceTempView instead.\n",
      "  warnings.warn(\"Deprecated in 2.0, use createOrReplaceTempView instead.\", FutureWarning)\n"
     ]
    }
   ],
   "source": [
    "# creating a temporary table to use for sql queries\n",
    "df_green.registerTempTable('green')"
   ]
  },
  {
   "cell_type": "code",
   "execution_count": 4,
   "id": "542a81cc-8318-48da-80f1-8c1e2f235400",
   "metadata": {},
   "outputs": [],
   "source": [
    "df_green_revenue = spark.sql(\"\"\"\n",
    "SELECT \n",
    "    date_trunc('hour', lpep_pickup_datetime) AS hour, \n",
    "    PULocationID AS zone,\n",
    "\n",
    "    SUM(total_amount) AS amount,\n",
    "    COUNT(1) AS number_records\n",
    "FROM\n",
    "    green\n",
    "WHERE\n",
    "    lpep_pickup_datetime >= '2020-01-01 00:00:00'\n",
    "GROUP BY\n",
    "    1, 2\n",
    "\"\"\")\n"
   ]
  },
  {
   "cell_type": "code",
   "execution_count": 5,
   "id": "10b0ff5b-c33d-4708-8b61-c96105869e89",
   "metadata": {},
   "outputs": [
    {
     "name": "stderr",
     "output_type": "stream",
     "text": [
      "[Stage 1:============================================>              (3 + 1) / 4]\r"
     ]
    },
    {
     "name": "stdout",
     "output_type": "stream",
     "text": [
      "+-------------------+----+------------------+--------------+\n",
      "|               hour|zone|            amount|number_records|\n",
      "+-------------------+----+------------------+--------------+\n",
      "|2020-01-28 19:00:00| 134|193.61000000000007|            17|\n",
      "|2020-01-22 19:00:00|  65| 657.0300000000001|            41|\n",
      "|2020-01-27 08:00:00|  17|             85.56|             4|\n",
      "|2020-01-02 09:00:00|  66|229.39999999999998|            12|\n",
      "|2020-01-02 12:00:00|  89|310.28000000000003|            14|\n",
      "|2020-01-07 12:00:00|  66|             179.5|             9|\n",
      "|2020-01-03 08:00:00| 223|165.90000000000003|             9|\n",
      "|2020-01-17 10:00:00|  41| 638.2699999999999|            49|\n",
      "|2020-01-02 11:00:00|  26|             198.6|             7|\n",
      "|2020-01-12 20:00:00| 247|36.900000000000006|             3|\n",
      "|2020-01-12 15:00:00|  10|             75.92|             1|\n",
      "|2020-01-24 04:00:00| 129|148.89000000000001|            13|\n",
      "|2020-01-04 20:00:00|  25| 369.5700000000001|            23|\n",
      "|2020-01-22 10:00:00|  74|1179.0599999999988|            83|\n",
      "|2020-01-13 18:00:00|  92|207.02000000000004|            11|\n",
      "|2020-01-19 11:00:00| 218|            181.16|             5|\n",
      "|2020-01-26 12:00:00|  35|257.03000000000003|             8|\n",
      "|2020-01-30 06:00:00|  75|            282.63|            19|\n",
      "|2020-01-04 22:00:00|  83|            298.16|            15|\n",
      "|2020-01-06 21:00:00| 129|288.02000000000004|            14|\n",
      "+-------------------+----+------------------+--------------+\n",
      "only showing top 20 rows\n",
      "\n"
     ]
    },
    {
     "name": "stderr",
     "output_type": "stream",
     "text": [
      "                                                                                \r"
     ]
    }
   ],
   "source": [
    "df_green_revenue.show()"
   ]
  },
  {
   "cell_type": "code",
   "execution_count": 6,
   "id": "b452ae48-dad3-4556-88ac-cf5e9779c174",
   "metadata": {},
   "outputs": [
    {
     "name": "stderr",
     "output_type": "stream",
     "text": [
      "                                                                                \r"
     ]
    }
   ],
   "source": [
    "df_green_revenue \\\n",
    "    .repartition(20) \\\n",
    "    .write.parquet('data/report/revenue/green', mode = 'overwrite')\n"
   ]
  },
  {
   "cell_type": "code",
   "execution_count": 7,
   "id": "b2911209-15b3-467d-a6e1-27397ff9f02e",
   "metadata": {},
   "outputs": [],
   "source": [
    "df_yellow = spark.read.parquet('data/pq/yellow/*/*')\n",
    "df_yellow.createOrReplaceTempView('yellow')"
   ]
  },
  {
   "cell_type": "code",
   "execution_count": 8,
   "id": "ac4d1bf9-9973-4c4c-953e-cfa2c26f3779",
   "metadata": {},
   "outputs": [],
   "source": [
    "df_yellow_revenue = spark.sql(\"\"\"\n",
    "SELECT \n",
    "    date_trunc('hour', tpep_pickup_datetime) AS hour, \n",
    "    PULocationID AS zone,\n",
    "\n",
    "    SUM(total_amount) AS amount,\n",
    "    COUNT(1) AS number_records\n",
    "FROM\n",
    "    yellow\n",
    "WHERE\n",
    "    tpep_pickup_datetime >= '2020-01-01 00:00:00'\n",
    "GROUP BY\n",
    "    1, 2\n",
    "\"\"\")\n"
   ]
  },
  {
   "cell_type": "code",
   "execution_count": 9,
   "id": "d09d489a-a45d-43e3-9c5d-64df32592607",
   "metadata": {},
   "outputs": [
    {
     "name": "stderr",
     "output_type": "stream",
     "text": [
      "[Stage 11:===================================================>    (11 + 1) / 12]\r"
     ]
    },
    {
     "name": "stdout",
     "output_type": "stream",
     "text": [
      "+-------------------+----+------------------+--------------+\n",
      "|               hour|zone|            amount|number_records|\n",
      "+-------------------+----+------------------+--------------+\n",
      "|2020-01-10 06:00:00| 144|            149.51|             9|\n",
      "|2020-01-29 03:00:00|  13|            248.89|             6|\n",
      "|2020-01-13 21:00:00| 255|            108.98|             8|\n",
      "|2020-01-04 12:00:00| 249| 2245.569999999999|           152|\n",
      "|2020-01-02 15:00:00| 236| 7382.910000000018|           504|\n",
      "|2020-01-31 21:00:00|  50|1784.4399999999994|           104|\n",
      "|2020-01-07 12:00:00|  68| 3046.229999999997|           181|\n",
      "|2020-01-02 09:00:00| 161|4299.9299999999985|           242|\n",
      "|2020-01-23 17:00:00| 233| 4642.769999999999|           235|\n",
      "|2020-01-06 22:00:00| 158| 923.2100000000003|            57|\n",
      "|2020-01-15 07:00:00|  13|2432.6299999999997|           118|\n",
      "|2020-01-23 19:00:00| 224|            327.28|            16|\n",
      "|2020-01-18 00:00:00| 144|2951.2999999999984|           174|\n",
      "|2020-01-17 19:00:00| 170| 9634.390000000025|           555|\n",
      "|2020-01-06 08:00:00|  43| 2765.499999999998|           169|\n",
      "|2020-01-23 22:00:00| 162| 9752.940000000017|           553|\n",
      "|2020-01-25 21:00:00| 230| 5935.560000000009|           388|\n",
      "|2020-01-04 02:00:00|  79| 6893.030000000011|           426|\n",
      "|2020-01-01 01:00:00| 107| 9994.480000000025|           583|\n",
      "|2020-01-21 18:00:00| 162| 14090.39000000004|           816|\n",
      "+-------------------+----+------------------+--------------+\n",
      "only showing top 20 rows\n",
      "\n"
     ]
    },
    {
     "name": "stderr",
     "output_type": "stream",
     "text": [
      "                                                                                \r"
     ]
    }
   ],
   "source": [
    "df_yellow_revenue.show()"
   ]
  },
  {
   "cell_type": "code",
   "execution_count": 10,
   "id": "a6cf32b1-cecf-4c60-8f72-aa82a60cc856",
   "metadata": {},
   "outputs": [
    {
     "name": "stderr",
     "output_type": "stream",
     "text": [
      "                                                                                \r"
     ]
    }
   ],
   "source": [
    "df_yellow_revenue \\\n",
    "    .repartition(20) \\\n",
    "    .write.parquet('data/report/revenue/yellow', mode = 'overwrite')"
   ]
  },
  {
   "cell_type": "code",
   "execution_count": 11,
   "id": "0e05cfa3-1fea-496a-8477-f0f4ac19bc17",
   "metadata": {},
   "outputs": [],
   "source": [
    "df_green_revenue = spark.read.parquet('data/report/revenue/green')\n",
    "df_yellow_revenue = spark.read.parquet('data/report/revenue/yellow')\n"
   ]
  },
  {
   "cell_type": "code",
   "execution_count": 12,
   "id": "4512f0ce-febb-4d50-87a1-6da946dc8d5d",
   "metadata": {},
   "outputs": [
    {
     "name": "stdout",
     "output_type": "stream",
     "text": [
      "+-------------------+----+------------------+--------------+\n",
      "|               hour|zone|            amount|number_records|\n",
      "+-------------------+----+------------------+--------------+\n",
      "|2021-05-19 10:00:00|  19|              14.3|             1|\n",
      "|2020-12-20 13:00:00|  33|             17.55|             2|\n",
      "|2020-08-23 13:00:00|  47|             27.86|             1|\n",
      "|2020-09-10 10:00:00| 134|             27.91|             1|\n",
      "|2020-03-31 11:00:00| 182|              20.3|             1|\n",
      "|2020-02-05 19:00:00| 197|              34.1|             2|\n",
      "|2020-02-18 08:00:00| 189|             66.64|             2|\n",
      "|2020-01-07 16:00:00| 224|             90.36|             2|\n",
      "|2020-02-18 08:00:00| 121|             32.36|             1|\n",
      "|2020-03-09 05:00:00| 243|             51.82|             3|\n",
      "|2020-09-29 09:00:00|  75|279.84000000000003|            12|\n",
      "|2020-11-20 16:00:00| 225|             105.2|             3|\n",
      "|2020-10-29 09:00:00| 150|             28.48|             1|\n",
      "|2020-02-07 08:00:00| 167|              29.6|             2|\n",
      "|2020-12-18 17:00:00|  84|              72.4|             1|\n",
      "|2021-01-11 07:00:00| 157|              34.1|             1|\n",
      "|2020-12-10 13:00:00| 228|             15.75|             1|\n",
      "|2020-03-12 12:00:00| 153|               8.3|             1|\n",
      "|2020-11-24 07:00:00| 137|             31.31|             1|\n",
      "|2020-08-08 12:00:00| 136|             59.13|             2|\n",
      "+-------------------+----+------------------+--------------+\n",
      "only showing top 20 rows\n",
      "\n"
     ]
    }
   ],
   "source": [
    "df_green_revenue.show()"
   ]
  },
  {
   "cell_type": "code",
   "execution_count": 13,
   "id": "f2e59017-0f05-4fab-95bf-9e9be9af7d19",
   "metadata": {},
   "outputs": [
    {
     "name": "stdout",
     "output_type": "stream",
     "text": [
      "+-------------------+----+------------------+--------------+\n",
      "|               hour|zone|            amount|number_records|\n",
      "+-------------------+----+------------------+--------------+\n",
      "|2020-03-31 23:00:00| 151|             30.35|             3|\n",
      "|2020-10-28 07:00:00| 179|             58.29|             4|\n",
      "|2020-11-23 13:00:00|  20|             29.19|             1|\n",
      "|2020-08-08 01:00:00| 228|              93.5|             1|\n",
      "|2020-05-08 07:00:00|  61| 84.13000000000001|             4|\n",
      "|2020-05-03 20:00:00| 230|             78.37|             5|\n",
      "|2020-01-26 02:00:00| 217|             57.51|             3|\n",
      "|2020-08-17 23:00:00| 254|              57.3|             1|\n",
      "|2020-08-08 12:00:00| 211|              65.0|             5|\n",
      "|2021-05-26 07:00:00| 249| 978.3400000000001|            58|\n",
      "|2020-10-05 13:00:00| 248|             42.29|             2|\n",
      "|2021-06-21 20:00:00|  80|               0.0|             2|\n",
      "|2021-02-04 09:00:00| 256|             17.01|             1|\n",
      "|2021-04-08 17:00:00| 137|2274.8799999999983|           114|\n",
      "|2020-08-09 15:00:00|  32|              61.3|             1|\n",
      "|2021-03-11 21:00:00|  46|             28.55|             1|\n",
      "|2020-07-16 01:00:00| 100|             131.6|             5|\n",
      "|2020-08-09 21:00:00| 142| 516.4500000000002|            32|\n",
      "|2020-01-31 19:00:00| 263| 4482.169999999996|           277|\n",
      "|2021-05-02 10:00:00| 262| 982.9200000000002|            65|\n",
      "+-------------------+----+------------------+--------------+\n",
      "only showing top 20 rows\n",
      "\n"
     ]
    }
   ],
   "source": [
    "df_yellow_revenue.show()"
   ]
  },
  {
   "cell_type": "code",
   "execution_count": 14,
   "id": "0fe59f38-5688-4c79-96b1-6b012d78c911",
   "metadata": {},
   "outputs": [],
   "source": [
    "# rename amount and number_records to indicate which data is from which table\n",
    "df_green_revenue_tmp = df_green_revenue \\\n",
    "    .withColumnRenamed('amount', 'green_amount') \\\n",
    "    .withColumnRenamed('number_records', 'green_number_records')\n",
    "\n",
    "df_yellow_revenue_tmp = df_yellow_revenue \\\n",
    "    .withColumnRenamed('amount', 'yellow_amount') \\\n",
    "    .withColumnRenamed('number_records', 'yellow_number_records')"
   ]
  },
  {
   "cell_type": "code",
   "execution_count": 15,
   "id": "9ae2a8b6-2bcf-479d-9bb4-fb4696c90381",
   "metadata": {},
   "outputs": [],
   "source": [
    "# outer join to include all rows from both tables including mismatched which will show \"null\"\n",
    "df_join = df_green_revenue_tmp.join(df_yellow_revenue_tmp, on=['hour', 'zone'], how='outer')\n"
   ]
  },
  {
   "cell_type": "code",
   "execution_count": 16,
   "id": "a57aef04-02ad-41b5-8aba-ec856789af83",
   "metadata": {},
   "outputs": [
    {
     "name": "stderr",
     "output_type": "stream",
     "text": [
      "[Stage 28:>                                                         (0 + 1) / 1]\r"
     ]
    },
    {
     "name": "stdout",
     "output_type": "stream",
     "text": [
      "+-------------------+----+------------------+--------------------+------------------+---------------------+\n",
      "|               hour|zone|      green_amount|green_number_records|     yellow_amount|yellow_number_records|\n",
      "+-------------------+----+------------------+--------------------+------------------+---------------------+\n",
      "|2020-01-01 00:00:00|   3|              null|                null|              25.0|                    1|\n",
      "|2020-01-01 00:00:00|   4|              null|                null|1004.3000000000002|                   57|\n",
      "|2020-01-01 00:00:00|   7| 769.7299999999996|                  45| 455.1700000000001|                   38|\n",
      "|2020-01-01 00:00:00|  12|              null|                null|             107.0|                    6|\n",
      "|2020-01-01 00:00:00|  37|            175.67|                   6|161.60999999999999|                    7|\n",
      "|2020-01-01 00:00:00|  40|168.97999999999996|                   8|             89.97|                    5|\n",
      "|2020-01-01 00:00:00|  45|              null|                null| 732.4800000000002|                   42|\n",
      "|2020-01-01 00:00:00|  47|              13.3|                   1|               8.3|                    1|\n",
      "|2020-01-01 00:00:00|  51|              17.8|                   2|              31.0|                    1|\n",
      "|2020-01-01 00:00:00|  62|             15.95|                   1|             61.43|                    1|\n",
      "|2020-01-01 00:00:00|  68|              null|                null| 7825.070000000012|                  396|\n",
      "|2020-01-01 00:00:00|  73|              null|                null|              17.3|                    1|\n",
      "|2020-01-01 00:00:00|  74|317.09000000000015|                  24| 586.2100000000002|                   47|\n",
      "|2020-01-01 00:00:00|  77| 75.99000000000001|                   2|            134.24|                    3|\n",
      "|2020-01-01 00:00:00|  80|364.32000000000005|                  13|             371.4|                   20|\n",
      "|2020-01-01 00:00:00|  83|              94.1|                   7|               9.8|                    1|\n",
      "|2020-01-01 00:00:00|  88|              null|                null| 823.8000000000002|                   36|\n",
      "|2020-01-01 00:00:00|  89|              11.3|                   1|             48.16|                    2|\n",
      "|2020-01-01 00:00:00|  94| 64.24000000000001|                   3|              13.3|                    1|\n",
      "|2020-01-01 00:00:00|  95|202.20000000000002|                  15|               6.3|                    1|\n",
      "+-------------------+----+------------------+--------------------+------------------+---------------------+\n",
      "only showing top 20 rows\n",
      "\n"
     ]
    },
    {
     "name": "stderr",
     "output_type": "stream",
     "text": [
      "                                                                                \r"
     ]
    }
   ],
   "source": [
    "df_join.show()"
   ]
  },
  {
   "cell_type": "code",
   "execution_count": 17,
   "id": "ab7704d4-1785-4bdd-968f-7de5f635504e",
   "metadata": {},
   "outputs": [
    {
     "name": "stderr",
     "output_type": "stream",
     "text": [
      "                                                                                \r"
     ]
    }
   ],
   "source": [
    "df_join.write.parquet('data/report/revenue/total', mode='overwrite')"
   ]
  },
  {
   "cell_type": "code",
   "execution_count": 18,
   "id": "e9352ba0-3d06-4a38-aea6-9b2a712c94f8",
   "metadata": {},
   "outputs": [],
   "source": [
    "# use materialized results rather than computing on the fly\n",
    "df_join = spark.read.parquet('data/report/revenue/total')"
   ]
  },
  {
   "cell_type": "code",
   "execution_count": 19,
   "id": "90ab5870-4b13-4e72-bec1-4c86e90da33b",
   "metadata": {},
   "outputs": [
    {
     "data": {
      "text/plain": [
       "DataFrame[hour: timestamp, zone: int, green_amount: double, green_number_records: bigint, yellow_amount: double, yellow_number_records: bigint]"
      ]
     },
     "execution_count": 19,
     "metadata": {},
     "output_type": "execute_result"
    }
   ],
   "source": [
    "df_join"
   ]
  },
  {
   "cell_type": "code",
   "execution_count": 20,
   "id": "3fa6efe2-f9e0-4e61-bdf3-d7365629fb2a",
   "metadata": {},
   "outputs": [],
   "source": [
    "df_zones = spark.read.parquet('zones/')"
   ]
  },
  {
   "cell_type": "code",
   "execution_count": 21,
   "id": "fc03dd18-78fa-494f-aacd-e29ae8e1fe4c",
   "metadata": {},
   "outputs": [],
   "source": [
    "# join df_zones and df_zones on zone and locationid\n",
    "df_result = df_join.join(df_zones, df_join.zone == df_zones.LocationID)"
   ]
  },
  {
   "cell_type": "code",
   "execution_count": 22,
   "id": "710a3193-cee3-4fd9-8e9e-66231f80d3e6",
   "metadata": {},
   "outputs": [
    {
     "name": "stdout",
     "output_type": "stream",
     "text": [
      "+-------------------+----+------------------+--------------------+------------------+---------------------+----------+---------+--------------------+------------+\n",
      "|               hour|zone|      green_amount|green_number_records|     yellow_amount|yellow_number_records|LocationID|  Borough|                Zone|service_zone|\n",
      "+-------------------+----+------------------+--------------------+------------------+---------------------+----------+---------+--------------------+------------+\n",
      "|2020-01-01 00:00:00|  14|              null|                null|               8.8|                    1|        14| Brooklyn|           Bay Ridge|   Boro Zone|\n",
      "|2020-01-01 00:00:00|  15|              null|                null|             34.09|                    1|        15|   Queens|Bay Terrace/Fort ...|   Boro Zone|\n",
      "|2020-01-01 00:00:00|  17|195.03000000000003|                   9|220.20999999999998|                    8|        17| Brooklyn|             Bedford|   Boro Zone|\n",
      "|2020-01-01 00:00:00|  25| 531.0000000000002|                  26|            324.35|                   16|        25| Brooklyn|         Boerum Hill|   Boro Zone|\n",
      "|2020-01-01 00:00:00|  32| 68.94999999999999|                   2|              18.0|                    1|        32|    Bronx|           Bronxdale|   Boro Zone|\n",
      "|2020-01-01 00:00:00|  43|            107.52|                   6| 6539.510000000012|                  390|        43|Manhattan|        Central Park| Yellow Zone|\n",
      "|2020-01-01 00:00:00|  49|266.76000000000005|                  14|185.64999999999998|                   10|        49| Brooklyn|        Clinton Hill|   Boro Zone|\n",
      "|2020-01-01 00:00:00|  59|              50.9|                   3|              null|                 null|        59|    Bronx|        Crotona Park|   Boro Zone|\n",
      "|2020-01-01 00:00:00|  69|              11.8|                   1|            106.52|                    4|        69|    Bronx|East Concourse/Co...|   Boro Zone|\n",
      "|2020-01-01 00:00:00|  71|              23.8|                   1|              null|                 null|        71| Brooklyn|East Flatbush/Far...|   Boro Zone|\n",
      "|2020-01-01 00:00:00|  72|             67.53|                   2|              null|                 null|        72| Brooklyn|East Flatbush/Rem...|   Boro Zone|\n",
      "|2020-01-01 00:00:00|  75|278.14000000000004|                  26| 958.3500000000004|                   69|        75|Manhattan|   East Harlem South|   Boro Zone|\n",
      "|2020-01-01 00:00:00|  78|             34.46|                   2|              null|                 null|        78|    Bronx|        East Tremont|   Boro Zone|\n",
      "|2020-01-01 00:00:00|  82| 305.1200000000001|                  28|              29.8|                    1|        82|   Queens|            Elmhurst|   Boro Zone|\n",
      "|2020-01-01 00:00:00|  85|             64.76|                   4|            102.56|                    3|        85| Brooklyn|             Erasmus|   Boro Zone|\n",
      "|2020-01-01 00:00:00|  87|              null|                null|2456.6699999999987|                  112|        87|Manhattan|Financial Distric...| Yellow Zone|\n",
      "|2020-01-01 00:00:00|  93|              null|                null|210.28000000000003|                    3|        93|   Queens|Flushing Meadows-...|   Boro Zone|\n",
      "|2020-01-01 00:00:00| 107|              null|                null| 6441.030000000006|                  380|       107|Manhattan|            Gramercy| Yellow Zone|\n",
      "|2020-01-01 00:00:00| 113|              null|                null| 3984.319999999998|                  220|       113|Manhattan|Greenwich Village...| Yellow Zone|\n",
      "|2020-01-01 00:00:00| 116|            328.76|                  18| 561.5100000000001|                   34|       116|Manhattan|    Hamilton Heights|   Boro Zone|\n",
      "+-------------------+----+------------------+--------------------+------------------+---------------------+----------+---------+--------------------+------------+\n",
      "only showing top 20 rows\n",
      "\n"
     ]
    }
   ],
   "source": [
    "df_result.show()"
   ]
  },
  {
   "cell_type": "code",
   "execution_count": 24,
   "id": "0f0fd53d-f95e-469b-b30d-1a3bf9181275",
   "metadata": {},
   "outputs": [
    {
     "name": "stderr",
     "output_type": "stream",
     "text": [
      "                                                                                \r"
     ]
    }
   ],
   "source": [
    "\n",
    "df_result.drop('LocationID', 'zone').write.parquet('tmp/revenue-zones', mode='overwrite')"
   ]
  },
  {
   "cell_type": "code",
   "execution_count": 25,
   "id": "0aa6be2f-c7dc-4e19-a399-2afe0ad731ee",
   "metadata": {},
   "outputs": [
    {
     "name": "stdout",
     "output_type": "stream",
     "text": [
      "+-------------------+----+------------------+--------------------+------------------+---------------------+----------+---------+--------------------+------------+\n",
      "|               hour|zone|      green_amount|green_number_records|     yellow_amount|yellow_number_records|LocationID|  Borough|                Zone|service_zone|\n",
      "+-------------------+----+------------------+--------------------+------------------+---------------------+----------+---------+--------------------+------------+\n",
      "|2020-01-01 00:00:00|  14|              null|                null|               8.8|                    1|        14| Brooklyn|           Bay Ridge|   Boro Zone|\n",
      "|2020-01-01 00:00:00|  15|              null|                null|             34.09|                    1|        15|   Queens|Bay Terrace/Fort ...|   Boro Zone|\n",
      "|2020-01-01 00:00:00|  17|195.03000000000003|                   9|220.20999999999998|                    8|        17| Brooklyn|             Bedford|   Boro Zone|\n",
      "|2020-01-01 00:00:00|  25| 531.0000000000002|                  26|            324.35|                   16|        25| Brooklyn|         Boerum Hill|   Boro Zone|\n",
      "|2020-01-01 00:00:00|  32| 68.94999999999999|                   2|              18.0|                    1|        32|    Bronx|           Bronxdale|   Boro Zone|\n",
      "|2020-01-01 00:00:00|  43|            107.52|                   6| 6539.510000000012|                  390|        43|Manhattan|        Central Park| Yellow Zone|\n",
      "|2020-01-01 00:00:00|  49|266.76000000000005|                  14|185.64999999999998|                   10|        49| Brooklyn|        Clinton Hill|   Boro Zone|\n",
      "|2020-01-01 00:00:00|  59|              50.9|                   3|              null|                 null|        59|    Bronx|        Crotona Park|   Boro Zone|\n",
      "|2020-01-01 00:00:00|  69|              11.8|                   1|            106.52|                    4|        69|    Bronx|East Concourse/Co...|   Boro Zone|\n",
      "|2020-01-01 00:00:00|  71|              23.8|                   1|              null|                 null|        71| Brooklyn|East Flatbush/Far...|   Boro Zone|\n",
      "|2020-01-01 00:00:00|  72|             67.53|                   2|              null|                 null|        72| Brooklyn|East Flatbush/Rem...|   Boro Zone|\n",
      "|2020-01-01 00:00:00|  75|278.14000000000004|                  26| 958.3500000000004|                   69|        75|Manhattan|   East Harlem South|   Boro Zone|\n",
      "|2020-01-01 00:00:00|  78|             34.46|                   2|              null|                 null|        78|    Bronx|        East Tremont|   Boro Zone|\n",
      "|2020-01-01 00:00:00|  82| 305.1200000000001|                  28|              29.8|                    1|        82|   Queens|            Elmhurst|   Boro Zone|\n",
      "|2020-01-01 00:00:00|  85|             64.76|                   4|            102.56|                    3|        85| Brooklyn|             Erasmus|   Boro Zone|\n",
      "|2020-01-01 00:00:00|  87|              null|                null|2456.6699999999987|                  112|        87|Manhattan|Financial Distric...| Yellow Zone|\n",
      "|2020-01-01 00:00:00|  93|              null|                null|210.28000000000003|                    3|        93|   Queens|Flushing Meadows-...|   Boro Zone|\n",
      "|2020-01-01 00:00:00| 107|              null|                null| 6441.030000000006|                  380|       107|Manhattan|            Gramercy| Yellow Zone|\n",
      "|2020-01-01 00:00:00| 113|              null|                null| 3984.319999999998|                  220|       113|Manhattan|Greenwich Village...| Yellow Zone|\n",
      "|2020-01-01 00:00:00| 116|            328.76|                  18| 561.5100000000001|                   34|       116|Manhattan|    Hamilton Heights|   Boro Zone|\n",
      "+-------------------+----+------------------+--------------------+------------------+---------------------+----------+---------+--------------------+------------+\n",
      "only showing top 20 rows\n",
      "\n"
     ]
    }
   ],
   "source": [
    "df_result.show()"
   ]
  },
  {
   "cell_type": "code",
   "execution_count": null,
   "id": "0e2e9370-96af-405e-99df-0499cf5a6b84",
   "metadata": {},
   "outputs": [],
   "source": []
  }
 ],
 "metadata": {
  "kernelspec": {
   "display_name": "Python 3 (ipykernel)",
   "language": "python",
   "name": "python3"
  },
  "language_info": {
   "codemirror_mode": {
    "name": "ipython",
    "version": 3
   },
   "file_extension": ".py",
   "mimetype": "text/x-python",
   "name": "python",
   "nbconvert_exporter": "python",
   "pygments_lexer": "ipython3",
   "version": "3.11.5"
  }
 },
 "nbformat": 4,
 "nbformat_minor": 5
}
