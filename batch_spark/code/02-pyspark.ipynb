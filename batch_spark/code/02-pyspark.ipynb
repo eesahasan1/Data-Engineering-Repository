{
 "cells": [
  {
   "cell_type": "code",
   "execution_count": 1,
   "id": "36a4d3c7",
   "metadata": {},
   "outputs": [],
   "source": [
    "import pyspark\n",
    "from pyspark.sql import SparkSession"
   ]
  },
  {
   "cell_type": "code",
   "execution_count": 2,
   "id": "a170716c",
   "metadata": {},
   "outputs": [
    {
     "name": "stderr",
     "output_type": "stream",
     "text": [
      "Setting default log level to \"WARN\".\n",
      "To adjust logging level use sc.setLogLevel(newLevel). For SparkR, use setLogLevel(newLevel).\n"
     ]
    },
    {
     "name": "stdout",
     "output_type": "stream",
     "text": [
      "24/03/04 17:53:52 WARN NativeCodeLoader: Unable to load native-hadoop library for your platform... using builtin-java classes where applicable\n",
      "24/03/04 17:53:54 WARN Utils: Service 'SparkUI' could not bind on port 4040. Attempting port 4041.\n"
     ]
    }
   ],
   "source": [
    "spark = SparkSession.builder \\\n",
    "    .master(\"local[*]\") \\\n",
    "    .appName('test') \\\n",
    "    .getOrCreate()\n"
   ]
  },
  {
   "cell_type": "code",
   "execution_count": 3,
   "id": "daa4530a",
   "metadata": {
    "scrolled": true
   },
   "outputs": [
    {
     "name": "stdout",
     "output_type": "stream",
     "text": [
      "--2024-03-04 17:53:56--  https://d37ci6vzurychx.cloudfront.net/trip-data/fhvhv_tripdata_2021-01.parquet\n",
      "Resolving d37ci6vzurychx.cloudfront.net (d37ci6vzurychx.cloudfront.net)... 54.230.209.72, 54.230.209.140, 54.230.209.126, ...\n",
      "Connecting to d37ci6vzurychx.cloudfront.net (d37ci6vzurychx.cloudfront.net)|54.230.209.72|:443... connected.\n",
      "HTTP request sent, awaiting response... 200 OK\n",
      "Length: 308924937 (295M) [application/x-www-form-urlencoded]\n",
      "Saving to: ‘fhvhv_tripdata_2021-01.parquet.1’\n",
      "\n",
      "fhvhv_tripdata_2021 100%[===================>] 294.61M  57.4MB/s    in 5.5s    \n",
      "\n",
      "2024-03-04 17:54:02 (53.7 MB/s) - ‘fhvhv_tripdata_2021-01.parquet.1’ saved [308924937/308924937]\n",
      "\n"
     ]
    }
   ],
   "source": [
    "!wget https://d37ci6vzurychx.cloudfront.net/trip-data/fhvhv_tripdata_2021-01.parquet"
   ]
  },
  {
   "cell_type": "code",
   "execution_count": 4,
   "id": "ab94301d",
   "metadata": {},
   "outputs": [
    {
     "name": "stdout",
     "output_type": "stream",
     "text": [
      "1006794 fhvhv_tripdata_2021-01.parquet\n"
     ]
    }
   ],
   "source": [
    "!wc -l fhvhv_tripdata_2021-01.parquet"
   ]
  },
  {
   "cell_type": "code",
   "execution_count": 5,
   "id": "25d25dbe-1c69-4848-a052-8e8e8debdc8c",
   "metadata": {
    "scrolled": true
   },
   "outputs": [
    {
     "name": "stderr",
     "output_type": "stream",
     "text": [
      "                                                                                \r"
     ]
    },
    {
     "ename": "AnalysisException",
     "evalue": "path file:/home/gzuz/data-engineering/batch_spark/code/fhvhv_tripdata_2021-01_single.csv already exists.",
     "output_type": "error",
     "traceback": [
      "\u001b[0;31m---------------------------------------------------------------------------\u001b[0m",
      "\u001b[0;31mAnalysisException\u001b[0m                         Traceback (most recent call last)",
      "Cell \u001b[0;32mIn[5], line 6\u001b[0m\n\u001b[1;32m      3\u001b[0m df \u001b[38;5;241m=\u001b[39m spark\u001b[38;5;241m.\u001b[39mread\u001b[38;5;241m.\u001b[39mparquet(\u001b[38;5;124m'\u001b[39m\u001b[38;5;124mfhvhv_tripdata_2021-01.parquet\u001b[39m\u001b[38;5;124m'\u001b[39m)\n\u001b[1;32m      5\u001b[0m \u001b[38;5;66;03m# coalesce to a single file rather than partitioned\u001b[39;00m\n\u001b[0;32m----> 6\u001b[0m df\u001b[38;5;241m.\u001b[39mcoalesce(\u001b[38;5;241m1\u001b[39m)\u001b[38;5;241m.\u001b[39mwrite\u001b[38;5;241m.\u001b[39moption(\u001b[38;5;124m\"\u001b[39m\u001b[38;5;124mheader\u001b[39m\u001b[38;5;124m\"\u001b[39m, \u001b[38;5;124m\"\u001b[39m\u001b[38;5;124mtrue\u001b[39m\u001b[38;5;124m\"\u001b[39m)\u001b[38;5;241m.\u001b[39mcsv(\u001b[38;5;124m'\u001b[39m\u001b[38;5;124mfhvhv_tripdata_2021-01_single.csv\u001b[39m\u001b[38;5;124m'\u001b[39m)\n",
      "File \u001b[0;32m~/spark/spark-3.3.2-bin-hadoop3/python/pyspark/sql/readwriter.py:1240\u001b[0m, in \u001b[0;36mDataFrameWriter.csv\u001b[0;34m(self, path, mode, compression, sep, quote, escape, header, nullValue, escapeQuotes, quoteAll, dateFormat, timestampFormat, ignoreLeadingWhiteSpace, ignoreTrailingWhiteSpace, charToEscapeQuoteEscaping, encoding, emptyValue, lineSep)\u001b[0m\n\u001b[1;32m   1221\u001b[0m \u001b[38;5;28mself\u001b[39m\u001b[38;5;241m.\u001b[39mmode(mode)\n\u001b[1;32m   1222\u001b[0m \u001b[38;5;28mself\u001b[39m\u001b[38;5;241m.\u001b[39m_set_opts(\n\u001b[1;32m   1223\u001b[0m     compression\u001b[38;5;241m=\u001b[39mcompression,\n\u001b[1;32m   1224\u001b[0m     sep\u001b[38;5;241m=\u001b[39msep,\n\u001b[0;32m   (...)\u001b[0m\n\u001b[1;32m   1238\u001b[0m     lineSep\u001b[38;5;241m=\u001b[39mlineSep,\n\u001b[1;32m   1239\u001b[0m )\n\u001b[0;32m-> 1240\u001b[0m \u001b[38;5;28mself\u001b[39m\u001b[38;5;241m.\u001b[39m_jwrite\u001b[38;5;241m.\u001b[39mcsv(path)\n",
      "File \u001b[0;32m~/anaconda3/lib/python3.11/site-packages/py4j/java_gateway.py:1322\u001b[0m, in \u001b[0;36mJavaMember.__call__\u001b[0;34m(self, *args)\u001b[0m\n\u001b[1;32m   1316\u001b[0m command \u001b[38;5;241m=\u001b[39m proto\u001b[38;5;241m.\u001b[39mCALL_COMMAND_NAME \u001b[38;5;241m+\u001b[39m\\\n\u001b[1;32m   1317\u001b[0m     \u001b[38;5;28mself\u001b[39m\u001b[38;5;241m.\u001b[39mcommand_header \u001b[38;5;241m+\u001b[39m\\\n\u001b[1;32m   1318\u001b[0m     args_command \u001b[38;5;241m+\u001b[39m\\\n\u001b[1;32m   1319\u001b[0m     proto\u001b[38;5;241m.\u001b[39mEND_COMMAND_PART\n\u001b[1;32m   1321\u001b[0m answer \u001b[38;5;241m=\u001b[39m \u001b[38;5;28mself\u001b[39m\u001b[38;5;241m.\u001b[39mgateway_client\u001b[38;5;241m.\u001b[39msend_command(command)\n\u001b[0;32m-> 1322\u001b[0m return_value \u001b[38;5;241m=\u001b[39m get_return_value(\n\u001b[1;32m   1323\u001b[0m     answer, \u001b[38;5;28mself\u001b[39m\u001b[38;5;241m.\u001b[39mgateway_client, \u001b[38;5;28mself\u001b[39m\u001b[38;5;241m.\u001b[39mtarget_id, \u001b[38;5;28mself\u001b[39m\u001b[38;5;241m.\u001b[39mname)\n\u001b[1;32m   1325\u001b[0m \u001b[38;5;28;01mfor\u001b[39;00m temp_arg \u001b[38;5;129;01min\u001b[39;00m temp_args:\n\u001b[1;32m   1326\u001b[0m     \u001b[38;5;28;01mif\u001b[39;00m \u001b[38;5;28mhasattr\u001b[39m(temp_arg, \u001b[38;5;124m\"\u001b[39m\u001b[38;5;124m_detach\u001b[39m\u001b[38;5;124m\"\u001b[39m):\n",
      "File \u001b[0;32m~/spark/spark-3.3.2-bin-hadoop3/python/pyspark/sql/utils.py:196\u001b[0m, in \u001b[0;36mcapture_sql_exception.<locals>.deco\u001b[0;34m(*a, **kw)\u001b[0m\n\u001b[1;32m    192\u001b[0m converted \u001b[38;5;241m=\u001b[39m convert_exception(e\u001b[38;5;241m.\u001b[39mjava_exception)\n\u001b[1;32m    193\u001b[0m \u001b[38;5;28;01mif\u001b[39;00m \u001b[38;5;129;01mnot\u001b[39;00m \u001b[38;5;28misinstance\u001b[39m(converted, UnknownException):\n\u001b[1;32m    194\u001b[0m     \u001b[38;5;66;03m# Hide where the exception came from that shows a non-Pythonic\u001b[39;00m\n\u001b[1;32m    195\u001b[0m     \u001b[38;5;66;03m# JVM exception message.\u001b[39;00m\n\u001b[0;32m--> 196\u001b[0m     \u001b[38;5;28;01mraise\u001b[39;00m converted \u001b[38;5;28;01mfrom\u001b[39;00m \u001b[38;5;28;01mNone\u001b[39;00m\n\u001b[1;32m    197\u001b[0m \u001b[38;5;28;01melse\u001b[39;00m:\n\u001b[1;32m    198\u001b[0m     \u001b[38;5;28;01mraise\u001b[39;00m\n",
      "\u001b[0;31mAnalysisException\u001b[0m: path file:/home/gzuz/data-engineering/batch_spark/code/fhvhv_tripdata_2021-01_single.csv already exists."
     ]
    }
   ],
   "source": [
    "# Write the DataFrame to a CSV file\n",
    "\n",
    "df = spark.read.parquet('fhvhv_tripdata_2021-01.parquet')\n",
    "\n",
    "# coalesce to a single file rather than partitioned\n",
    "df.coalesce(1).write.option(\"header\", \"true\").csv('fhvhv_tripdata_2021-01_single.csv')\n"
   ]
  },
  {
   "cell_type": "code",
   "execution_count": 6,
   "id": "aaca73e4-c57a-4561-a42c-d0198f0f0461",
   "metadata": {},
   "outputs": [],
   "source": [
    "# write the first 1000 rows to a new file\n",
    "\n",
    "!head -n 1001 fhvhv_tripdata_2021-01_single.csv/part-00000-3c4e65c2-b02c-4f81-a011-96e65f30abe9-c000.csv > df_head.csv"
   ]
  },
  {
   "cell_type": "code",
   "execution_count": 7,
   "id": "ebdc9bb6",
   "metadata": {},
   "outputs": [],
   "source": [
    "df = spark.read \\\n",
    "    .option(\"header\", \"true\") \\\n",
    "    .parquet('fhvhv_tripdata_2021-01.parquet')"
   ]
  },
  {
   "cell_type": "code",
   "execution_count": 8,
   "id": "191741d3",
   "metadata": {
    "scrolled": true
   },
   "outputs": [
    {
     "name": "stderr",
     "output_type": "stream",
     "text": [
      "[Stage 3:=======================================>                   (2 + 1) / 3]\r"
     ]
    },
    {
     "name": "stdout",
     "output_type": "stream",
     "text": [
      "+-----------------+--------------------+--------------------+-------------------+-------------------+-------------------+-------------------+------------+------------+----------+---------+-------------------+-----+----+---------+--------------------+-----------+----+----------+-------------------+-----------------+------------------+----------------+--------------+\n",
      "|hvfhs_license_num|dispatching_base_num|originating_base_num|   request_datetime|  on_scene_datetime|    pickup_datetime|   dropoff_datetime|PULocationID|DOLocationID|trip_miles|trip_time|base_passenger_fare|tolls| bcf|sales_tax|congestion_surcharge|airport_fee|tips|driver_pay|shared_request_flag|shared_match_flag|access_a_ride_flag|wav_request_flag|wav_match_flag|\n",
      "+-----------------+--------------------+--------------------+-------------------+-------------------+-------------------+-------------------+------------+------------+----------+---------+-------------------+-----+----+---------+--------------------+-----------+----+----------+-------------------+-----------------+------------------+----------------+--------------+\n",
      "|           HV0003|              B02682|              B02682|2021-01-01 00:28:09|2021-01-01 00:31:42|2021-01-01 00:33:44|2021-01-01 00:49:07|         230|         166|      5.26|      923|              22.28|  0.0|0.67|     1.98|                2.75|       null| 0.0|     14.99|                  N|                N|                  |               N|             N|\n",
      "|           HV0003|              B02682|              B02682|2021-01-01 00:45:56|2021-01-01 00:55:19|2021-01-01 00:55:19|2021-01-01 01:18:21|         152|         167|      3.65|     1382|              18.36|  0.0|0.55|     1.63|                 0.0|       null| 0.0|     17.06|                  N|                N|                  |               N|             N|\n",
      "|           HV0003|              B02764|              B02764|2021-01-01 00:21:15|2021-01-01 00:22:41|2021-01-01 00:23:56|2021-01-01 00:38:05|         233|         142|      3.51|      849|              14.05|  0.0|0.48|     1.25|                2.75|       null|0.94|     12.98|                  N|                N|                  |               N|             N|\n",
      "|           HV0003|              B02764|              B02764|2021-01-01 00:39:12|2021-01-01 00:42:37|2021-01-01 00:42:51|2021-01-01 00:45:50|         142|         143|      0.74|      179|               7.91|  0.0|0.24|      0.7|                2.75|       null| 0.0|      7.41|                  N|                N|                  |               N|             N|\n",
      "|           HV0003|              B02764|              B02764|2021-01-01 00:46:11|2021-01-01 00:47:17|2021-01-01 00:48:14|2021-01-01 01:08:42|         143|          78|       9.2|     1228|              27.11|  0.0|0.81|     2.41|                2.75|       null| 0.0|     22.44|                  N|                N|                  |               N|             N|\n",
      "|           HV0005|              B02510|                null|2021-01-01 00:04:00|               null|2021-01-01 00:06:59|2021-01-01 00:43:01|          88|          42|     9.725|     2162|              28.11|  0.0|0.84|     2.49|                2.75|       null| 0.0|      28.9|                  N|                N|                 N|               N|             N|\n",
      "|           HV0005|              B02510|                null|2021-01-01 00:40:06|               null|2021-01-01 00:50:00|2021-01-01 01:04:57|          42|         151|     2.469|      897|              25.03|  0.0|0.75|     2.22|                 0.0|       null| 0.0|     15.01|                  N|                N|                 N|               N|             N|\n",
      "|           HV0003|              B02764|              B02764|2021-01-01 00:10:36|2021-01-01 00:12:28|2021-01-01 00:14:30|2021-01-01 00:50:27|          71|         226|     13.53|     2157|              29.67|  0.0|1.04|     3.08|                 0.0|       null| 0.0|      34.2|                  N|                N|                  |               N|             N|\n",
      "|           HV0003|              B02875|              B02875|2021-01-01 00:21:17|2021-01-01 00:22:25|2021-01-01 00:22:54|2021-01-01 00:30:20|         112|         255|       1.6|      446|               6.89|  0.0|0.21|     0.61|                 0.0|       null| 0.0|      6.26|                  N|                N|                  |               N|             N|\n",
      "|           HV0003|              B02875|              B02875|2021-01-01 00:36:57|2021-01-01 00:38:09|2021-01-01 00:40:12|2021-01-01 00:53:31|         255|         232|       3.2|      800|              11.51|  0.0|0.53|     1.03|                2.75|       null|2.82|     10.99|                  N|                N|                  |               N|             N|\n",
      "|           HV0003|              B02875|              B02875|2021-01-01 00:53:31|2021-01-01 00:56:21|2021-01-01 00:56:45|2021-01-01 01:17:42|         232|         198|      5.74|     1257|              17.18|  0.0|0.52|     1.52|                2.75|       null| 0.0|     17.61|                  N|                N|                  |               N|             N|\n",
      "|           HV0003|              B02835|              B02835|2021-01-01 00:22:58|2021-01-01 00:27:01|2021-01-01 00:29:04|2021-01-01 00:36:27|         113|          48|       1.8|      443|               8.18|  0.0|0.25|     0.73|                2.75|       null| 0.0|      6.12|                  N|                N|                  |               N|             N|\n",
      "|           HV0003|              B02835|              B02835|2021-01-01 00:46:44|2021-01-01 00:47:49|2021-01-01 00:48:56|2021-01-01 00:59:12|         239|          75|       2.9|      616|               13.1|  0.0|0.45|     1.17|                2.75|       null|0.94|      8.77|                  N|                N|                  |               N|             N|\n",
      "|           HV0004|              B02800|                null|2021-01-01 00:12:50|               null|2021-01-01 00:15:24|2021-01-01 00:38:31|         181|         237|      9.66|     1387|              32.95|  0.0| 0.0|     2.34|                2.75|       null| 0.0|      21.1|                  N|                N|                 N|               N|             N|\n",
      "|           HV0004|              B02800|                null|2021-01-01 00:35:32|               null|2021-01-01 00:45:00|2021-01-01 01:06:45|         236|          68|      4.38|     1305|              22.91|  0.0| 0.0|     1.63|                2.75|       null|3.43|     15.82|                  N|                N|                 N|               N|             N|\n",
      "|           HV0003|              B02682|              B02682|2021-01-01 00:10:22|2021-01-01 00:11:03|2021-01-01 00:11:53|2021-01-01 00:18:06|         256|         148|      2.03|      373|               7.84|  0.0|0.42|      0.7|                2.75|       null|2.82|      6.93|                  N|                N|                  |               N|             N|\n",
      "|           HV0003|              B02682|              B02682|2021-01-01 00:25:00|2021-01-01 00:26:31|2021-01-01 00:28:31|2021-01-01 00:41:40|          79|          80|      3.08|      789|               13.2|  0.0| 0.4|     1.17|                2.75|       null| 0.0|     11.54|                  N|                N|                  |               N|             N|\n",
      "|           HV0003|              B02682|              B02682|2021-01-01 00:44:56|2021-01-01 00:49:55|2021-01-01 00:50:49|2021-01-01 00:55:59|          17|         217|      1.17|      310|               7.91|  0.0|0.24|      0.7|                 0.0|       null| 0.0|      6.94|                  N|                N|                  |               N|             N|\n",
      "|           HV0005|              B02510|                null|2021-01-01 00:05:04|               null|2021-01-01 00:08:40|2021-01-01 00:39:39|          62|          29|    10.852|     1859|              31.18|  0.0|0.94|     2.77|                 0.0|       null| 0.0|     27.61|                  N|                N|                 N|               N|             N|\n",
      "|           HV0003|              B02836|              B02836|2021-01-01 00:40:44|2021-01-01 00:53:34|2021-01-01 00:53:48|2021-01-01 01:11:40|          22|          22|      3.52|     1072|              28.67|  0.0|0.86|     2.54|                 0.0|       null| 0.0|     17.64|                  N|                N|                  |               N|             N|\n",
      "+-----------------+--------------------+--------------------+-------------------+-------------------+-------------------+-------------------+------------+------------+----------+---------+-------------------+-----+----+---------+--------------------+-----------+----+----------+-------------------+-----------------+------------------+----------------+--------------+\n",
      "only showing top 20 rows\n",
      "\n"
     ]
    },
    {
     "name": "stderr",
     "output_type": "stream",
     "text": [
      "                                                                                \r"
     ]
    }
   ],
   "source": [
    "df.show()"
   ]
  },
  {
   "cell_type": "code",
   "execution_count": 9,
   "id": "a6fe0261",
   "metadata": {
    "scrolled": true
   },
   "outputs": [
    {
     "name": "stderr",
     "output_type": "stream",
     "text": [
      "                                                                                \r"
     ]
    },
    {
     "data": {
      "text/plain": [
       "[Row(hvfhs_license_num='HV0003', dispatching_base_num='B02682', originating_base_num='B02682', request_datetime=datetime.datetime(2021, 1, 1, 0, 28, 9), on_scene_datetime=datetime.datetime(2021, 1, 1, 0, 31, 42), pickup_datetime=datetime.datetime(2021, 1, 1, 0, 33, 44), dropoff_datetime=datetime.datetime(2021, 1, 1, 0, 49, 7), PULocationID=230, DOLocationID=166, trip_miles=5.26, trip_time=923, base_passenger_fare=22.28, tolls=0.0, bcf=0.67, sales_tax=1.98, congestion_surcharge=2.75, airport_fee=None, tips=0.0, driver_pay=14.99, shared_request_flag='N', shared_match_flag='N', access_a_ride_flag=' ', wav_request_flag='N', wav_match_flag='N'),\n",
       " Row(hvfhs_license_num='HV0003', dispatching_base_num='B02682', originating_base_num='B02682', request_datetime=datetime.datetime(2021, 1, 1, 0, 45, 56), on_scene_datetime=datetime.datetime(2021, 1, 1, 0, 55, 19), pickup_datetime=datetime.datetime(2021, 1, 1, 0, 55, 19), dropoff_datetime=datetime.datetime(2021, 1, 1, 1, 18, 21), PULocationID=152, DOLocationID=167, trip_miles=3.65, trip_time=1382, base_passenger_fare=18.36, tolls=0.0, bcf=0.55, sales_tax=1.63, congestion_surcharge=0.0, airport_fee=None, tips=0.0, driver_pay=17.06, shared_request_flag='N', shared_match_flag='N', access_a_ride_flag=' ', wav_request_flag='N', wav_match_flag='N'),\n",
       " Row(hvfhs_license_num='HV0003', dispatching_base_num='B02764', originating_base_num='B02764', request_datetime=datetime.datetime(2021, 1, 1, 0, 21, 15), on_scene_datetime=datetime.datetime(2021, 1, 1, 0, 22, 41), pickup_datetime=datetime.datetime(2021, 1, 1, 0, 23, 56), dropoff_datetime=datetime.datetime(2021, 1, 1, 0, 38, 5), PULocationID=233, DOLocationID=142, trip_miles=3.51, trip_time=849, base_passenger_fare=14.05, tolls=0.0, bcf=0.48, sales_tax=1.25, congestion_surcharge=2.75, airport_fee=None, tips=0.94, driver_pay=12.98, shared_request_flag='N', shared_match_flag='N', access_a_ride_flag=' ', wav_request_flag='N', wav_match_flag='N'),\n",
       " Row(hvfhs_license_num='HV0003', dispatching_base_num='B02764', originating_base_num='B02764', request_datetime=datetime.datetime(2021, 1, 1, 0, 39, 12), on_scene_datetime=datetime.datetime(2021, 1, 1, 0, 42, 37), pickup_datetime=datetime.datetime(2021, 1, 1, 0, 42, 51), dropoff_datetime=datetime.datetime(2021, 1, 1, 0, 45, 50), PULocationID=142, DOLocationID=143, trip_miles=0.74, trip_time=179, base_passenger_fare=7.91, tolls=0.0, bcf=0.24, sales_tax=0.7, congestion_surcharge=2.75, airport_fee=None, tips=0.0, driver_pay=7.41, shared_request_flag='N', shared_match_flag='N', access_a_ride_flag=' ', wav_request_flag='N', wav_match_flag='N'),\n",
       " Row(hvfhs_license_num='HV0003', dispatching_base_num='B02764', originating_base_num='B02764', request_datetime=datetime.datetime(2021, 1, 1, 0, 46, 11), on_scene_datetime=datetime.datetime(2021, 1, 1, 0, 47, 17), pickup_datetime=datetime.datetime(2021, 1, 1, 0, 48, 14), dropoff_datetime=datetime.datetime(2021, 1, 1, 1, 8, 42), PULocationID=143, DOLocationID=78, trip_miles=9.2, trip_time=1228, base_passenger_fare=27.11, tolls=0.0, bcf=0.81, sales_tax=2.41, congestion_surcharge=2.75, airport_fee=None, tips=0.0, driver_pay=22.44, shared_request_flag='N', shared_match_flag='N', access_a_ride_flag=' ', wav_request_flag='N', wav_match_flag='N')]"
      ]
     },
     "execution_count": 9,
     "metadata": {},
     "output_type": "execute_result"
    }
   ],
   "source": [
    "df.head(5)"
   ]
  },
  {
   "cell_type": "code",
   "execution_count": 10,
   "id": "bafe660e",
   "metadata": {
    "scrolled": true
   },
   "outputs": [
    {
     "data": {
      "text/plain": [
       "[('hvfhs_license_num', 'string'),\n",
       " ('dispatching_base_num', 'string'),\n",
       " ('originating_base_num', 'string'),\n",
       " ('request_datetime', 'timestamp'),\n",
       " ('on_scene_datetime', 'timestamp'),\n",
       " ('pickup_datetime', 'timestamp'),\n",
       " ('dropoff_datetime', 'timestamp'),\n",
       " ('PULocationID', 'bigint'),\n",
       " ('DOLocationID', 'bigint'),\n",
       " ('trip_miles', 'double'),\n",
       " ('trip_time', 'bigint'),\n",
       " ('base_passenger_fare', 'double'),\n",
       " ('tolls', 'double'),\n",
       " ('bcf', 'double'),\n",
       " ('sales_tax', 'double'),\n",
       " ('congestion_surcharge', 'double'),\n",
       " ('airport_fee', 'double'),\n",
       " ('tips', 'double'),\n",
       " ('driver_pay', 'double'),\n",
       " ('shared_request_flag', 'string'),\n",
       " ('shared_match_flag', 'string'),\n",
       " ('access_a_ride_flag', 'string'),\n",
       " ('wav_request_flag', 'string'),\n",
       " ('wav_match_flag', 'string')]"
      ]
     },
     "execution_count": 10,
     "metadata": {},
     "output_type": "execute_result"
    }
   ],
   "source": [
    "df.dtypes"
   ]
  },
  {
   "cell_type": "code",
   "execution_count": 11,
   "id": "72db0bc3-14a1-4570-bd85-77a14fc09db6",
   "metadata": {},
   "outputs": [
    {
     "data": {
      "text/plain": [
       "StructType([StructField('hvfhs_license_num', StringType(), True), StructField('dispatching_base_num', StringType(), True), StructField('originating_base_num', StringType(), True), StructField('request_datetime', TimestampType(), True), StructField('on_scene_datetime', TimestampType(), True), StructField('pickup_datetime', TimestampType(), True), StructField('dropoff_datetime', TimestampType(), True), StructField('PULocationID', LongType(), True), StructField('DOLocationID', LongType(), True), StructField('trip_miles', DoubleType(), True), StructField('trip_time', LongType(), True), StructField('base_passenger_fare', DoubleType(), True), StructField('tolls', DoubleType(), True), StructField('bcf', DoubleType(), True), StructField('sales_tax', DoubleType(), True), StructField('congestion_surcharge', DoubleType(), True), StructField('airport_fee', DoubleType(), True), StructField('tips', DoubleType(), True), StructField('driver_pay', DoubleType(), True), StructField('shared_request_flag', StringType(), True), StructField('shared_match_flag', StringType(), True), StructField('access_a_ride_flag', StringType(), True), StructField('wav_request_flag', StringType(), True), StructField('wav_match_flag', StringType(), True)])"
      ]
     },
     "execution_count": 11,
     "metadata": {},
     "output_type": "execute_result"
    }
   ],
   "source": [
    "df.schema"
   ]
  },
  {
   "cell_type": "code",
   "execution_count": 12,
   "id": "279cdf88",
   "metadata": {
    "scrolled": true
   },
   "outputs": [
    {
     "name": "stdout",
     "output_type": "stream",
     "text": [
      "root\n",
      " |-- hvfhs_license_num: string (nullable = true)\n",
      " |-- dispatching_base_num: string (nullable = true)\n",
      " |-- originating_base_num: string (nullable = true)\n",
      " |-- request_datetime: timestamp (nullable = true)\n",
      " |-- on_scene_datetime: timestamp (nullable = true)\n",
      " |-- pickup_datetime: timestamp (nullable = true)\n",
      " |-- dropoff_datetime: timestamp (nullable = true)\n",
      " |-- PULocationID: long (nullable = true)\n",
      " |-- DOLocationID: long (nullable = true)\n",
      " |-- trip_miles: double (nullable = true)\n",
      " |-- trip_time: long (nullable = true)\n",
      " |-- base_passenger_fare: double (nullable = true)\n",
      " |-- tolls: double (nullable = true)\n",
      " |-- bcf: double (nullable = true)\n",
      " |-- sales_tax: double (nullable = true)\n",
      " |-- congestion_surcharge: double (nullable = true)\n",
      " |-- airport_fee: double (nullable = true)\n",
      " |-- tips: double (nullable = true)\n",
      " |-- driver_pay: double (nullable = true)\n",
      " |-- shared_request_flag: string (nullable = true)\n",
      " |-- shared_match_flag: string (nullable = true)\n",
      " |-- access_a_ride_flag: string (nullable = true)\n",
      " |-- wav_request_flag: string (nullable = true)\n",
      " |-- wav_match_flag: string (nullable = true)\n",
      "\n"
     ]
    }
   ],
   "source": [
    "df.printSchema()"
   ]
  },
  {
   "cell_type": "code",
   "execution_count": 13,
   "id": "28349804-b5e7-4345-aa39-74fdf57718f0",
   "metadata": {},
   "outputs": [],
   "source": [
    "# partion the dataframe into 24 sections\n",
    "\n",
    "df_partitioned = df.repartition(24)"
   ]
  },
  {
   "cell_type": "code",
   "execution_count": 14,
   "id": "c609b090-1cfc-41d5-a630-646b18fa1274",
   "metadata": {},
   "outputs": [
    {
     "ename": "AnalysisException",
     "evalue": "path file:/home/gzuz/data-engineering/batch_spark/code/fhvhv/2021/01 already exists.",
     "output_type": "error",
     "traceback": [
      "\u001b[0;31m---------------------------------------------------------------------------\u001b[0m",
      "\u001b[0;31mAnalysisException\u001b[0m                         Traceback (most recent call last)",
      "Cell \u001b[0;32mIn[14], line 1\u001b[0m\n\u001b[0;32m----> 1\u001b[0m df_partitioned\u001b[38;5;241m.\u001b[39mwrite\u001b[38;5;241m.\u001b[39mparquet(\u001b[38;5;124m'\u001b[39m\u001b[38;5;124mfhvhv/2021/01\u001b[39m\u001b[38;5;124m'\u001b[39m)\n",
      "File \u001b[0;32m~/spark/spark-3.3.2-bin-hadoop3/python/pyspark/sql/readwriter.py:1140\u001b[0m, in \u001b[0;36mDataFrameWriter.parquet\u001b[0;34m(self, path, mode, partitionBy, compression)\u001b[0m\n\u001b[1;32m   1138\u001b[0m     \u001b[38;5;28mself\u001b[39m\u001b[38;5;241m.\u001b[39mpartitionBy(partitionBy)\n\u001b[1;32m   1139\u001b[0m \u001b[38;5;28mself\u001b[39m\u001b[38;5;241m.\u001b[39m_set_opts(compression\u001b[38;5;241m=\u001b[39mcompression)\n\u001b[0;32m-> 1140\u001b[0m \u001b[38;5;28mself\u001b[39m\u001b[38;5;241m.\u001b[39m_jwrite\u001b[38;5;241m.\u001b[39mparquet(path)\n",
      "File \u001b[0;32m~/anaconda3/lib/python3.11/site-packages/py4j/java_gateway.py:1322\u001b[0m, in \u001b[0;36mJavaMember.__call__\u001b[0;34m(self, *args)\u001b[0m\n\u001b[1;32m   1316\u001b[0m command \u001b[38;5;241m=\u001b[39m proto\u001b[38;5;241m.\u001b[39mCALL_COMMAND_NAME \u001b[38;5;241m+\u001b[39m\\\n\u001b[1;32m   1317\u001b[0m     \u001b[38;5;28mself\u001b[39m\u001b[38;5;241m.\u001b[39mcommand_header \u001b[38;5;241m+\u001b[39m\\\n\u001b[1;32m   1318\u001b[0m     args_command \u001b[38;5;241m+\u001b[39m\\\n\u001b[1;32m   1319\u001b[0m     proto\u001b[38;5;241m.\u001b[39mEND_COMMAND_PART\n\u001b[1;32m   1321\u001b[0m answer \u001b[38;5;241m=\u001b[39m \u001b[38;5;28mself\u001b[39m\u001b[38;5;241m.\u001b[39mgateway_client\u001b[38;5;241m.\u001b[39msend_command(command)\n\u001b[0;32m-> 1322\u001b[0m return_value \u001b[38;5;241m=\u001b[39m get_return_value(\n\u001b[1;32m   1323\u001b[0m     answer, \u001b[38;5;28mself\u001b[39m\u001b[38;5;241m.\u001b[39mgateway_client, \u001b[38;5;28mself\u001b[39m\u001b[38;5;241m.\u001b[39mtarget_id, \u001b[38;5;28mself\u001b[39m\u001b[38;5;241m.\u001b[39mname)\n\u001b[1;32m   1325\u001b[0m \u001b[38;5;28;01mfor\u001b[39;00m temp_arg \u001b[38;5;129;01min\u001b[39;00m temp_args:\n\u001b[1;32m   1326\u001b[0m     \u001b[38;5;28;01mif\u001b[39;00m \u001b[38;5;28mhasattr\u001b[39m(temp_arg, \u001b[38;5;124m\"\u001b[39m\u001b[38;5;124m_detach\u001b[39m\u001b[38;5;124m\"\u001b[39m):\n",
      "File \u001b[0;32m~/spark/spark-3.3.2-bin-hadoop3/python/pyspark/sql/utils.py:196\u001b[0m, in \u001b[0;36mcapture_sql_exception.<locals>.deco\u001b[0;34m(*a, **kw)\u001b[0m\n\u001b[1;32m    192\u001b[0m converted \u001b[38;5;241m=\u001b[39m convert_exception(e\u001b[38;5;241m.\u001b[39mjava_exception)\n\u001b[1;32m    193\u001b[0m \u001b[38;5;28;01mif\u001b[39;00m \u001b[38;5;129;01mnot\u001b[39;00m \u001b[38;5;28misinstance\u001b[39m(converted, UnknownException):\n\u001b[1;32m    194\u001b[0m     \u001b[38;5;66;03m# Hide where the exception came from that shows a non-Pythonic\u001b[39;00m\n\u001b[1;32m    195\u001b[0m     \u001b[38;5;66;03m# JVM exception message.\u001b[39;00m\n\u001b[0;32m--> 196\u001b[0m     \u001b[38;5;28;01mraise\u001b[39;00m converted \u001b[38;5;28;01mfrom\u001b[39;00m \u001b[38;5;28;01mNone\u001b[39;00m\n\u001b[1;32m    197\u001b[0m \u001b[38;5;28;01melse\u001b[39;00m:\n\u001b[1;32m    198\u001b[0m     \u001b[38;5;28;01mraise\u001b[39;00m\n",
      "\u001b[0;31mAnalysisException\u001b[0m: path file:/home/gzuz/data-engineering/batch_spark/code/fhvhv/2021/01 already exists."
     ]
    }
   ],
   "source": [
    "df_partitioned.write.parquet('fhvhv/2021/01')"
   ]
  },
  {
   "cell_type": "code",
   "execution_count": 15,
   "id": "a56b36f5-b1e1-4faa-bd59-b72fbd94e4c3",
   "metadata": {},
   "outputs": [],
   "source": [
    "df_partitioned = spark.read.parquet('fhvhv/2021/01')"
   ]
  },
  {
   "cell_type": "code",
   "execution_count": 16,
   "id": "0fe9c346-c637-4387-b67f-0387f1db081a",
   "metadata": {},
   "outputs": [
    {
     "name": "stdout",
     "output_type": "stream",
     "text": [
      "root\n",
      " |-- hvfhs_license_num: string (nullable = true)\n",
      " |-- dispatching_base_num: string (nullable = true)\n",
      " |-- originating_base_num: string (nullable = true)\n",
      " |-- request_datetime: timestamp (nullable = true)\n",
      " |-- on_scene_datetime: timestamp (nullable = true)\n",
      " |-- pickup_datetime: timestamp (nullable = true)\n",
      " |-- dropoff_datetime: timestamp (nullable = true)\n",
      " |-- PULocationID: long (nullable = true)\n",
      " |-- DOLocationID: long (nullable = true)\n",
      " |-- trip_miles: double (nullable = true)\n",
      " |-- trip_time: long (nullable = true)\n",
      " |-- base_passenger_fare: double (nullable = true)\n",
      " |-- tolls: double (nullable = true)\n",
      " |-- bcf: double (nullable = true)\n",
      " |-- sales_tax: double (nullable = true)\n",
      " |-- congestion_surcharge: double (nullable = true)\n",
      " |-- airport_fee: double (nullable = true)\n",
      " |-- tips: double (nullable = true)\n",
      " |-- driver_pay: double (nullable = true)\n",
      " |-- shared_request_flag: string (nullable = true)\n",
      " |-- shared_match_flag: string (nullable = true)\n",
      " |-- access_a_ride_flag: string (nullable = true)\n",
      " |-- wav_request_flag: string (nullable = true)\n",
      " |-- wav_match_flag: string (nullable = true)\n",
      "\n"
     ]
    }
   ],
   "source": [
    "df_partitioned.printSchema()"
   ]
  },
  {
   "cell_type": "code",
   "execution_count": 18,
   "id": "ca6e60a6-4b48-4110-a51d-ffc48323cf1a",
   "metadata": {
    "scrolled": true
   },
   "outputs": [
    {
     "name": "stdout",
     "output_type": "stream",
     "text": [
      "hvfhs_license_num,dispatching_base_num,originating_base_num,request_datetime,on_scene_datetime,pickup_datetime,dropoff_datetime,PULocationID,DOLocationID,trip_miles,trip_time,base_passenger_fare,tolls,bcf,sales_tax,congestion_surcharge,airport_fee,tips,driver_pay,shared_request_flag,shared_match_flag,access_a_ride_flag,wav_request_flag,wav_match_flag\n",
      "HV0003,B02682,B02682,2021-01-01T00:28:09.000Z,2021-01-01T00:31:42.000Z,2021-01-01T00:33:44.000Z,2021-01-01T00:49:07.000Z,230,166,5.26,923,22.28,0.0,0.67,1.98,2.75,,0.0,14.99,N,N,\"\",N,N\n",
      "HV0003,B02682,B02682,2021-01-01T00:45:56.000Z,2021-01-01T00:55:19.000Z,2021-01-01T00:55:19.000Z,2021-01-01T01:18:21.000Z,152,167,3.65,1382,18.36,0.0,0.55,1.63,0.0,,0.0,17.06,N,N,\"\",N,N\n",
      "HV0003,B02764,B02764,2021-01-01T00:21:15.000Z,2021-01-01T00:22:41.000Z,2021-01-01T00:23:56.000Z,2021-01-01T00:38:05.000Z,233,142,3.51,849,14.05,0.0,0.48,1.25,2.75,,0.94,12.98,N,N,\"\",N,N\n",
      "HV0003,B02764,B02764,2021-01-01T00:39:12.000Z,2021-01-01T00:42:37.000Z,2021-01-01T00:42:51.000Z,2021-01-01T00:45:50.000Z,142,143,0.74,179,7.91,0.0,0.24,0.7,2.75,,0.0,7.41,N,N,\"\",N,N\n",
      "HV0003,B02764,B02764,2021-01-01T00:46:11.000Z,2021-01-01T00:47:17.000Z,2021-01-01T00:48:14.000Z,2021-01-01T01:08:42.000Z,143,78,9.2,1228,27.11,0.0,0.81,2.41,2.75,,0.0,22.44,N,N,\"\",N,N\n",
      "HV0005,B02510,,2021-01-01T00:04:00.000Z,,2021-01-01T00:06:59.000Z,2021-01-01T00:43:01.000Z,88,42,9.725,2162,28.11,0.0,0.84,2.49,2.75,,0.0,28.9,N,N,N,N,N\n",
      "HV0005,B02510,,2021-01-01T00:40:06.000Z,,2021-01-01T00:50:00.000Z,2021-01-01T01:04:57.000Z,42,151,2.469,897,25.03,0.0,0.75,2.22,0.0,,0.0,15.01,N,N,N,N,N\n",
      "HV0003,B02764,B02764,2021-01-01T00:10:36.000Z,2021-01-01T00:12:28.000Z,2021-01-01T00:14:30.000Z,2021-01-01T00:50:27.000Z,71,226,13.53,2157,29.67,0.0,1.04,3.08,0.0,,0.0,34.2,N,N,\"\",N,N\n",
      "HV0003,B02875,B02875,2021-01-01T00:21:17.000Z,2021-01-01T00:22:25.000Z,2021-01-01T00:22:54.000Z,2021-01-01T00:30:20.000Z,112,255,1.6,446,6.89,0.0,0.21,0.61,0.0,,0.0,6.26,N,N,\"\",N,N\n",
      "HV0003,B02875,B02875,2021-01-01T00:36:57.000Z,2021-01-01T00:38:09.000Z,2021-01-01T00:40:12.000Z,2021-01-01T00:53:31.000Z,255,232,3.2,800,11.51,0.0,0.53,1.03,2.75,,2.82,10.99,N,N,\"\",N,N\n",
      "HV0003,B02875,B02875,2021-01-01T00:53:31.000Z,2021-01-01T00:56:21.000Z,2021-01-01T00:56:45.000Z,2021-01-01T01:17:42.000Z,232,198,5.74,1257,17.18,0.0,0.52,1.52,2.75,,0.0,17.61,N,N,\"\",N,N\n",
      "HV0003,B02835,B02835,2021-01-01T00:22:58.000Z,2021-01-01T00:27:01.000Z,2021-01-01T00:29:04.000Z,2021-01-01T00:36:27.000Z,113,48,1.8,443,8.18,0.0,0.25,0.73,2.75,,0.0,6.12,N,N,\"\",N,N\n",
      "HV0003,B02835,B02835,2021-01-01T00:46:44.000Z,2021-01-01T00:47:49.000Z,2021-01-01T00:48:56.000Z,2021-01-01T00:59:12.000Z,239,75,2.9,616,13.1,0.0,0.45,1.17,2.75,,0.94,8.77,N,N,\"\",N,N\n",
      "HV0004,B02800,,2021-01-01T00:12:50.000Z,,2021-01-01T00:15:24.000Z,2021-01-01T00:38:31.000Z,181,237,9.66,1387,32.95,0.0,0.0,2.34,2.75,,0.0,21.1,N,N,N,N,N\n",
      "HV0004,B02800,,2021-01-01T00:35:32.000Z,,2021-01-01T00:45:00.000Z,2021-01-01T01:06:45.000Z,236,68,4.38,1305,22.91,0.0,0.0,1.63,2.75,,3.43,15.82,N,N,N,N,N\n",
      "HV0003,B02682,B02682,2021-01-01T00:10:22.000Z,2021-01-01T00:11:03.000Z,2021-01-01T00:11:53.000Z,2021-01-01T00:18:06.000Z,256,148,2.03,373,7.84,0.0,0.42,0.7,2.75,,2.82,6.93,N,N,\"\",N,N\n",
      "HV0003,B02682,B02682,2021-01-01T00:25:00.000Z,2021-01-01T00:26:31.000Z,2021-01-01T00:28:31.000Z,2021-01-01T00:41:40.000Z,79,80,3.08,789,13.2,0.0,0.4,1.17,2.75,,0.0,11.54,N,N,\"\",N,N\n",
      "HV0003,B02682,B02682,2021-01-01T00:44:56.000Z,2021-01-01T00:49:55.000Z,2021-01-01T00:50:49.000Z,2021-01-01T00:55:59.000Z,17,217,1.17,310,7.91,0.0,0.24,0.7,0.0,,0.0,6.94,N,N,\"\",N,N\n",
      "HV0005,B02510,,2021-01-01T00:05:04.000Z,,2021-01-01T00:08:40.000Z,2021-01-01T00:39:39.000Z,62,29,10.852,1859,31.18,0.0,0.94,2.77,0.0,,0.0,27.61,N,N,N,N,N\n",
      "HV0003,B02836,B02836,2021-01-01T00:40:44.000Z,2021-01-01T00:53:34.000Z,2021-01-01T00:53:48.000Z,2021-01-01T01:11:40.000Z,22,22,3.52,1072,28.67,0.0,0.86,2.54,0.0,,0.0,17.64,N,N,\"\",N,N\n",
      "HV0005,B02510,,2021-01-01T00:11:57.000Z,,2021-01-01T00:22:24.000Z,2021-01-01T00:36:23.000Z,92,191,5.864,839,19.82,0.0,0.59,1.76,0.0,,0.0,13.54,N,N,N,N,N\n",
      "HV0005,B02510,,2021-01-01T00:30:51.000Z,,2021-01-01T00:40:55.000Z,2021-01-01T00:52:38.000Z,191,203,4.906,703,15.79,0.0,0.47,1.4,0.0,,0.0,11.33,N,N,N,N,N\n",
      "HV0003,B02836,B02836,2021-01-01T00:34:46.000Z,2021-01-01T00:36:10.000Z,2021-01-01T00:36:21.000Z,2021-01-01T00:57:41.000Z,146,129,3.55,1280,10.4,0.0,0.31,0.92,0.0,,0.0,16.49,N,N,\"\",N,N\n",
      "HV0003,B02512,B02512,2021-01-01T00:10:26.000Z,2021-01-01T00:13:53.000Z,2021-01-01T00:14:21.000Z,2021-01-01T00:21:16.000Z,37,225,1.03,415,7.91,0.0,0.24,0.7,0.0,,0.0,5.39,N,N,\"\",N,N\n",
      "HV0003,B02512,B02512,2021-01-01T00:24:23.000Z,2021-01-01T00:26:25.000Z,2021-01-01T00:26:37.000Z,2021-01-01T01:08:20.000Z,225,47,16.02,2503,35.62,6.12,1.25,3.7,0.0,,0.0,38.62,N,N,\"\",N,N\n",
      "HV0003,B02764,B02764,2021-01-01T00:12:42.000Z,2021-01-01T00:17:11.000Z,2021-01-01T00:19:11.000Z,2021-01-01T00:33:49.000Z,81,32,2.65,878,13.53,0.0,0.41,1.2,0.0,,0.0,11.72,N,N,\"\",N,N\n",
      "HV0003,B02764,B02764,2021-01-01T00:28:07.000Z,2021-01-01T00:37:51.000Z,2021-01-01T00:39:51.000Z,2021-01-01T00:58:51.000Z,32,126,4.42,1140,20.86,0.0,0.63,1.85,0.0,,0.0,15.86,N,N,\"\",N,N\n",
      "HV0005,B02510,,2021-01-01T00:08:48.000Z,,2021-01-01T00:11:59.000Z,2021-01-01T00:32:27.000Z,119,75,5.431,1228,14.59,0.14,0.44,1.31,0.0,,0.0,18.07,N,N,N,N,Y\n",
      "HV0005,B02510,,2021-01-01T00:33:14.000Z,,2021-01-01T00:39:10.000Z,2021-01-01T01:01:57.000Z,75,129,7.919,1367,21.26,5.5,0.8,2.37,2.75,,0.0,22.8,N,N,N,N,Y\n",
      "HV0005,B02510,,2021-01-01T00:10:36.000Z,,2021-01-01T00:14:44.000Z,2021-01-01T00:37:27.000Z,205,95,8.498,1363,25.02,0.0,0.75,2.22,0.0,,0.0,20.85,N,N,N,N,N\n",
      "HV0005,B02510,,2021-01-01T00:35:31.000Z,,2021-01-01T00:45:29.000Z,2021-01-01T01:09:46.000Z,82,244,11.159,1457,32.13,5.78,1.14,3.36,0.0,,0.0,24.59,N,N,N,N,N\n",
      "HV0003,B02764,B02764,2021-01-01T00:02:10.000Z,2021-01-01T00:05:53.000Z,2021-01-01T00:06:49.000Z,2021-01-01T00:20:07.000Z,138,42,6.83,798,19.92,6.12,0.78,2.31,0.0,,0.0,17.17,N,N,\"\",N,N\n",
      "HV0003,B02764,B02764,2021-01-01T00:24:51.000Z,2021-01-01T00:25:12.000Z,2021-01-01T00:27:12.000Z,2021-01-01T00:47:00.000Z,42,182,6.96,1188,23.78,0.0,0.9,2.65,0.0,,0.0,20.58,N,N,\"\",N,N\n",
      "HV0003,B02764,B02764,2021-01-01T00:45:12.000Z,2021-01-01T00:50:12.000Z,2021-01-01T00:52:12.000Z,2021-01-01T01:06:40.000Z,250,32,2.39,868,15.94,0.0,0.48,1.41,0.0,,0.0,12.85,N,N,\"\",N,N\n",
      "HV0005,B02510,,2021-01-01T00:17:35.000Z,,2021-01-01T00:19:55.000Z,2021-01-01T00:32:17.000Z,50,244,6.185,742,17.08,0.0,0.51,1.52,2.75,,0.0,13.08,N,N,N,N,N\n",
      "HV0005,B02510,,2021-01-01T00:31:10.000Z,,2021-01-01T00:41:10.000Z,2021-01-01T00:53:11.000Z,244,116,2.341,721,20.23,0.0,0.61,1.8,0.0,,0.0,9.92,N,N,N,N,N\n",
      "HV0005,B02510,,2021-01-01T00:52:28.000Z,,2021-01-01T00:57:33.000Z,2021-01-01T01:10:19.000Z,116,168,2.423,766,15.39,0.0,0.46,1.37,0.0,,0.0,9.1,N,N,N,N,N\n",
      "HV0003,B02872,B02872,2021-01-01T00:12:05.000Z,2021-01-01T00:15:19.000Z,2021-01-01T00:17:19.000Z,2021-01-01T00:27:08.000Z,234,170,1.77,589,8.39,0.0,0.25,0.74,2.75,,0.0,9.96,N,N,\"\",N,N\n",
      "HV0003,B02872,B02872,2021-01-01T00:47:18.000Z,2021-01-01T00:50:27.000Z,2021-01-01T00:50:50.000Z,2021-01-01T01:00:05.000Z,66,4,3.85,555,13.87,0.0,0.42,1.23,2.75,,0.0,11.97,N,N,\"\",N,N\n",
      "HV0003,B02764,B02764,2021-01-01T00:16:19.000Z,2021-01-01T00:17:27.000Z,2021-01-01T00:18:42.000Z,2021-01-01T00:33:23.000Z,113,237,3.48,881,14.23,0.0,0.43,1.26,2.75,,0.0,13.48,N,N,\"\",N,N\n",
      "HV0003,B02764,B02764,2021-01-01T00:34:38.000Z,2021-01-01T00:36:27.000Z,2021-01-01T00:38:27.000Z,2021-01-01T00:48:48.000Z,237,107,2.77,621,13.01,0.0,0.39,1.15,2.75,,0.0,9.07,N,N,\"\",N,N\n",
      "HV0003,B02682,B02682,2021-01-01T00:09:15.000Z,2021-01-01T00:10:56.000Z,2021-01-01T00:12:14.000Z,2021-01-01T00:26:11.000Z,39,71,3.25,837,14.5,0.0,0.44,1.29,0.0,,0.0,14.18,N,N,\"\",N,N\n",
      "HV0003,B02682,B02682,2021-01-01T00:30:27.000Z,2021-01-01T00:34:52.000Z,2021-01-01T00:35:20.000Z,2021-01-01T00:44:08.000Z,91,89,1.45,528,6.33,0.0,0.19,0.56,0.0,,0.0,9.6,N,N,\"\",N,N\n",
      "HV0003,B02682,B02682,2021-01-01T00:43:01.000Z,2021-01-01T00:45:40.000Z,2021-01-01T00:46:07.000Z,2021-01-01T00:53:32.000Z,89,89,1.04,445,8.7,0.0,0.26,0.77,0.0,,0.0,8.98,N,N,\"\",N,N\n",
      "HV0003,B02682,B02682,2021-01-01T00:47:51.000Z,2021-01-01T00:58:40.000Z,2021-01-01T00:58:40.000Z,2021-01-01T01:04:40.000Z,165,165,1.66,360,9.44,0.0,0.28,0.84,0.0,,0.0,10.38,N,N,\"\",N,N\n",
      "HV0003,B02872,B02872,2021-01-01T00:33:58.000Z,2021-01-01T00:35:20.000Z,2021-01-01T00:37:20.000Z,2021-01-01T00:46:03.000Z,234,144,1.44,523,9.35,0.0,0.28,0.83,2.75,,0.0,7.45,N,N,\"\",N,N\n",
      "HV0003,B02872,B02872,2021-01-01T00:50:59.000Z,2021-01-01T00:56:32.000Z,2021-01-01T00:56:54.000Z,2021-01-01T01:23:17.000Z,87,7,10.58,1583,27.06,0.0,1.0,2.94,2.75,,0.0,25.9,N,N,\"\",N,N\n",
      "HV0005,B02510,,2021-01-01T00:29:29.000Z,,2021-01-01T00:32:47.000Z,2021-01-01T01:20:32.000Z,209,265,35.396,2865,75.67,4.5,2.41,0.0,0.0,,0.0,67.44,N,N,N,N,N\n",
      "HV0003,B02888,B02888,2021-01-01T00:11:41.000Z,2021-01-01T00:12:52.000Z,2021-01-01T00:14:30.000Z,2021-01-01T00:36:50.000Z,48,224,4.05,1340,16.95,0.0,0.51,1.5,2.75,,0.0,25.07,N,N,\"\",N,Y\n",
      "HV0003,B02888,B02888,2021-01-01T00:43:11.000Z,2021-01-01T00:44:32.000Z,2021-01-01T00:45:14.000Z,2021-01-01T00:51:02.000Z,229,140,1.02,348,7.91,0.0,0.24,0.7,2.75,,0.0,11.74,N,N,\"\",N,Y\n",
      "HV0003,B02888,B02888,2021-01-01T00:51:43.000Z,2021-01-01T00:56:13.000Z,2021-01-01T00:58:14.000Z,2021-01-01T01:05:29.000Z,262,263,1.0,435,10.83,0.0,0.32,0.96,2.75,,0.0,15.28,N,N,\"\",N,Y\n",
      "HV0005,B02510,,2021-01-01T00:45:18.000Z,,2021-01-01T00:47:11.000Z,2021-01-01T01:10:29.000Z,230,265,6.548,1398,20.62,20.0,1.04,0.0,0.0,,0.0,20.22,N,N,N,N,N\n",
      "HV0003,B02617,B02617,2021-01-01T00:13:52.000Z,2021-01-01T00:18:25.000Z,2021-01-01T00:19:00.000Z,2021-01-01T00:31:44.000Z,14,97,6.56,764,16.56,0.0,0.5,1.47,0.0,,0.0,14.91,N,N,\"\",N,N\n",
      "HV0003,B02617,B02617,2021-01-01T00:39:55.000Z,2021-01-01T00:40:33.000Z,2021-01-01T00:41:04.000Z,2021-01-01T01:06:28.000Z,148,36,5.23,1524,18.0,0.0,0.54,1.6,2.75,,0.0,19.8,N,N,\"\",N,N\n",
      "HV0003,B02836,B02836,2021-01-01T00:32:03.000Z,2021-01-01T00:33:37.000Z,2021-01-01T00:35:37.000Z,2021-01-01T01:00:46.000Z,256,91,10.59,1509,29.13,0.0,0.87,2.59,0.0,,0.0,24.89,N,N,\"\",N,N\n",
      "HV0005,B02510,,2021-01-01T00:27:25.000Z,,2021-01-01T00:32:35.000Z,2021-01-01T00:43:30.000Z,37,148,3.155,655,13.62,0.0,0.41,1.21,2.75,,0.0,8.98,N,N,N,N,N\n",
      "HV0005,B02510,,2021-01-01T00:45:02.000Z,,2021-01-01T00:48:30.000Z,2021-01-01T01:11:53.000Z,148,223,9.562,1403,25.1,0.82,0.78,2.3,2.75,,0.0,22.36,N,N,N,N,N\n",
      "HV0003,B02764,B02764,2021-01-01T00:16:57.000Z,2021-01-01T00:22:36.000Z,2021-01-01T00:23:12.000Z,2021-01-01T00:30:18.000Z,250,213,1.49,426,7.91,0.0,0.24,0.7,0.0,,0.0,9.68,N,N,\"\",N,N\n",
      "HV0003,B02764,B02764,2021-01-01T00:26:48.000Z,2021-01-01T00:33:30.000Z,2021-01-01T00:33:48.000Z,2021-01-01T00:45:38.000Z,213,126,3.98,710,17.81,0.0,0.53,1.58,0.0,,0.0,14.62,N,N,\"\",N,N\n",
      "HV0003,B02764,B02764,2021-01-01T00:42:21.000Z,2021-01-01T00:49:04.000Z,2021-01-01T00:49:30.000Z,2021-01-01T01:05:26.000Z,126,247,2.7,956,14.7,0.0,0.44,1.3,0.0,,0.0,15.27,N,N,\"\",N,N\n",
      "HV0004,B02800,,2020-12-31T23:57:45.000Z,,2021-01-01T00:06:06.000Z,2021-01-01T00:19:55.000Z,168,75,4.08,828,17.95,0.0,0.0,1.27,0.0,,0.0,0.0,N,N,N,N,N\n",
      "HV0004,B02800,,2021-01-01T00:17:47.000Z,,2021-01-01T00:28:06.000Z,2021-01-01T00:40:46.000Z,151,143,2.45,759,13.95,0.0,0.0,0.99,2.75,,0.0,0.0,N,N,N,N,N\n",
      "HV0004,B02800,,2021-01-01T00:35:15.000Z,,2021-01-01T00:53:48.000Z,2021-01-01T01:13:37.000Z,116,263,6.09,1189,26.95,0.0,0.0,1.82,2.75,,0.0,0.0,N,N,N,N,N\n",
      "HV0005,B02510,,2021-01-01T00:07:39.000Z,,2021-01-01T00:12:34.000Z,2021-01-01T00:29:19.000Z,232,68,3.886,1005,19.62,0.0,0.59,1.74,2.75,,0.0,14.82,N,N,N,N,Y\n",
      "HV0005,B02510,,2021-01-01T00:31:15.000Z,,2021-01-01T00:33:30.000Z,2021-01-01T00:46:06.000Z,68,161,2.157,756,10.93,0.0,0.33,0.97,2.75,,0.0,9.43,N,N,N,N,Y\n",
      "HV0005,B02510,,2021-01-01T00:33:56.000Z,,2021-01-01T00:46:19.000Z,2021-01-01T00:55:26.000Z,168,42,2.019,547,8.9,0.0,0.27,0.79,0.0,,0.0,6.82,N,N,N,N,N\n",
      "HV0005,B02510,,2021-01-01T00:54:56.000Z,,2021-01-01T00:59:50.000Z,2021-01-01T01:15:15.000Z,116,242,6.902,925,19.11,0.0,0.57,1.7,0.0,,0.0,21.99,N,N,N,N,N\n",
      "HV0003,B02864,B02864,2021-01-01T00:19:22.000Z,2021-01-01T00:21:04.000Z,2021-01-01T00:22:22.000Z,2021-01-01T00:49:03.000Z,256,35,5.24,1601,23.64,0.0,0.71,2.1,0.0,,0.0,20.06,N,N,\"\",N,N\n",
      "HV0003,B02764,B02764,2021-01-01T00:06:36.000Z,2021-01-01T00:08:27.000Z,2021-01-01T00:08:27.000Z,2021-01-01T00:25:17.000Z,112,36,3.56,1010,15.68,0.0,0.65,1.4,0.0,,2.82,13.3,N,N,\"\",N,N\n",
      "HV0003,B02764,B02764,2021-01-01T00:25:11.000Z,2021-01-01T00:27:10.000Z,2021-01-01T00:27:44.000Z,2021-01-01T01:02:46.000Z,36,247,12.8,2102,38.48,6.12,1.64,3.97,0.0,,4.7,32.63,N,N,\"\",N,N\n",
      "HV0003,B02764,B02764,2021-01-01T00:53:44.000Z,2021-01-01T00:55:03.000Z,2021-01-01T00:55:23.000Z,2021-01-01T01:15:07.000Z,233,265,5.91,1184,22.76,20.0,1.28,0.0,0.0,,0.0,19.42,N,N,\"\",N,N\n",
      "HV0003,B02872,B02872,2021-01-01T00:02:41.000Z,2021-01-01T00:04:52.000Z,2021-01-01T00:05:04.000Z,2021-01-01T00:25:52.000Z,245,22,9.2,1248,24.83,6.12,0.93,2.75,0.0,,0.0,21.2,N,N,\"\",N,N\n",
      "HV0003,B02872,B02872,2021-01-01T00:34:15.000Z,2021-01-01T00:37:00.000Z,2021-01-01T00:37:19.000Z,2021-01-01T00:50:12.000Z,22,227,3.36,773,11.7,0.0,0.35,1.04,0.0,,0.0,10.79,N,N,\"\",N,N\n",
      "HV0003,B02872,B02872,2021-01-01T00:52:01.000Z,2021-01-01T00:54:24.000Z,2021-01-01T00:56:08.000Z,2021-01-01T01:32:49.000Z,228,250,21.59,2201,49.78,0.0,1.98,4.97,2.75,,4.7,42.84,N,N,\"\",N,N\n",
      "HV0005,B02510,,2021-01-01T00:35:53.000Z,,2021-01-01T00:40:04.000Z,2021-01-01T00:58:03.000Z,232,238,7.903,1079,23.31,0.0,0.7,2.07,2.75,,0.0,17.81,N,N,N,N,N\n",
      "HV0003,B02877,B02877,2021-01-01T00:28:40.000Z,2021-01-01T00:36:20.000Z,2021-01-01T00:36:20.000Z,2021-01-01T01:14:59.000Z,230,186,2.74,2319,10.44,0.0,0.31,0.93,2.75,,0.0,24.96,N,N,\"\",N,N\n",
      "HV0004,B02800,,2021-01-01T00:21:59.000Z,,2021-01-01T00:28:43.000Z,2021-01-01T00:47:00.000Z,4,145,5.94,1096,24.95,0.0,0.0,1.77,2.75,,0.0,15.43,N,N,N,N,N\n",
      "HV0004,B02800,,2021-01-01T00:41:48.000Z,,2021-01-01T00:51:39.000Z,2021-01-01T01:02:52.000Z,145,146,2.53,673,15.95,0.0,0.0,1.13,0.0,,0.0,8.28,N,N,N,N,N\n",
      "HV0003,B02889,B02889,2021-01-01T00:13:11.000Z,2021-01-01T00:17:21.000Z,2021-01-01T00:19:21.000Z,2021-01-01T00:46:32.000Z,185,116,7.16,1631,28.76,0.0,0.86,2.55,0.0,,0.0,25.68,N,N,\"\",N,N\n",
      "HV0003,B02889,B02889,2021-01-01T00:45:25.000Z,2021-01-01T00:48:53.000Z,2021-01-01T00:50:12.000Z,2021-01-01T01:05:42.000Z,116,242,6.39,930,20.14,0.0,0.6,1.79,0.0,,0.0,18.97,N,N,\"\",N,N\n",
      "HV0005,B02510,,2021-01-01T00:09:44.000Z,,2021-01-01T00:12:22.000Z,2021-01-01T00:22:25.000Z,148,79,0.865,603,7.37,0.0,0.22,0.65,2.75,,0.0,6.01,N,N,N,N,N\n",
      "HV0005,B02510,,2021-01-01T00:23:59.000Z,,2021-01-01T00:27:03.000Z,2021-01-01T00:46:57.000Z,4,265,4.223,1194,24.04,20.0,1.32,0.0,0.0,,1.0,16.98,N,N,N,N,N\n",
      "HV0003,B02889,B02889,2021-01-01T00:06:57.000Z,2021-01-01T00:09:21.000Z,2021-01-01T00:10:34.000Z,2021-01-01T00:15:31.000Z,80,255,1.21,297,7.12,0.0,0.21,0.63,0.0,,0.0,6.82,N,N,\"\",N,N\n",
      "HV0003,B02889,B02889,2021-01-01T00:22:18.000Z,2021-01-01T00:23:45.000Z,2021-01-01T00:23:56.000Z,2021-01-01T00:31:22.000Z,255,80,1.31,446,7.12,0.0,0.21,0.63,0.0,,0.0,6.82,N,N,\"\",N,N\n",
      "HV0003,B02889,B02889,2021-01-01T00:32:34.000Z,2021-01-01T00:33:09.000Z,2021-01-01T00:33:57.000Z,2021-01-01T00:37:31.000Z,80,80,0.7,214,7.91,0.0,0.24,0.7,0.0,,0.0,6.81,N,N,\"\",N,N\n",
      "HV0003,B02889,B02889,2021-01-01T00:37:33.000Z,2021-01-01T00:39:01.000Z,2021-01-01T00:41:01.000Z,2021-01-01T00:53:33.000Z,80,226,3.3,752,16.05,0.0,0.48,1.42,0.0,,0.0,11.35,N,N,\"\",N,N\n",
      "HV0005,B02510,,2021-01-01T00:23:03.000Z,,2021-01-01T00:25:45.000Z,2021-01-01T00:35:41.000Z,209,137,3.695,596,12.28,0.0,0.0,0.0,2.75,,0.0,9.1,N,N,N,N,N\n",
      "HV0005,B02510,,2021-01-01T00:40:43.000Z,,2021-01-01T00:42:23.000Z,2021-01-01T01:01:28.000Z,4,49,4.744,1145,21.34,0.0,0.64,1.89,2.75,,0.0,14.86,N,N,N,N,N\n",
      "HV0005,B02510,,2021-01-01T00:31:19.000Z,,2021-01-01T00:42:26.000Z,2021-01-01T01:11:38.000Z,71,77,4.392,1752,23.69,0.0,0.71,2.1,0.0,,0.0,22.06,N,N,N,N,Y\n",
      "HV0003,B02512,B02512,2020-12-31T23:58:40.000Z,2021-01-01T00:04:45.000Z,2021-01-01T00:05:32.000Z,2021-01-01T00:17:36.000Z,35,72,2.03,724,11.12,0.0,0.33,0.99,0.0,,0.0,13.3,N,N,\"\",N,N\n",
      "HV0003,B02764,B02764,2021-01-01T00:43:22.000Z,2021-01-01T00:44:55.000Z,2021-01-01T00:46:23.000Z,2021-01-01T00:52:15.000Z,113,148,1.02,352,7.91,0.0,0.24,0.7,2.75,,0.0,6.09,N,N,\"\",N,N\n",
      "HV0003,B02764,B02764,2021-01-01T00:56:37.000Z,2021-01-01T00:57:55.000Z,2021-01-01T00:59:10.000Z,2021-01-01T01:08:09.000Z,211,66,2.45,539,11.24,0.0,0.34,1.0,2.75,,0.0,7.9,N,N,\"\",N,N\n",
      "HV0003,B02876,B02876,2021-01-01T00:11:56.000Z,2021-01-01T00:12:33.000Z,2021-01-01T00:13:51.000Z,2021-01-01T00:20:26.000Z,17,61,1.59,395,7.91,0.0,0.24,0.7,0.0,,0.0,11.99,N,N,\"\",N,N\n",
      "HV0003,B02876,B02876,2021-01-01T00:32:43.000Z,2021-01-01T00:34:01.000Z,2021-01-01T00:36:01.000Z,2021-01-01T00:56:18.000Z,256,13,5.53,1217,23.76,0.0,0.71,2.11,2.75,,0.0,22.87,N,N,\"\",N,N\n",
      "HV0003,B02872,B02872,2021-01-01T00:14:20.000Z,2021-01-01T00:15:30.000Z,2021-01-01T00:17:32.000Z,2021-01-01T00:33:42.000Z,90,87,6.0,970,21.41,0.0,0.64,1.9,2.75,,0.0,17.7,N,N,\"\",N,N\n",
      "HV0003,B02872,B02872,2021-01-01T00:44:07.000Z,2021-01-01T00:47:02.000Z,2021-01-01T00:47:50.000Z,2021-01-01T01:03:45.000Z,231,141,6.5,955,18.38,0.0,0.55,1.63,2.75,,0.0,18.12,N,N,\"\",N,N\n",
      "HV0005,B02510,,2021-01-01T00:11:55.000Z,,2021-01-01T00:15:03.000Z,2021-01-01T00:41:05.000Z,48,97,6.881,1562,30.07,0.85,0.93,2.74,2.75,,0.0,20.71,N,N,N,N,N\n",
      "HV0005,B02510,,2021-01-01T00:40:38.000Z,,2021-01-01T00:47:09.000Z,2021-01-01T01:05:40.000Z,97,231,3.447,1111,19.0,0.0,0.57,1.69,2.75,,0.0,15.04,N,N,N,N,N\n",
      "HV0005,B02510,,2021-01-01T00:05:44.000Z,,2021-01-01T00:09:53.000Z,2021-01-01T00:49:57.000Z,61,117,13.469,2404,41.39,3.54,1.35,3.99,0.0,,0.0,35.08,N,N,N,N,N\n"
     ]
    }
   ],
   "source": [
    "!head -n 100 df_head.csv"
   ]
  },
  {
   "cell_type": "code",
   "execution_count": 46,
   "id": "1cbbf2bb-b9d0-4586-9933-20d25bd893a4",
   "metadata": {},
   "outputs": [
    {
     "name": "stdout",
     "output_type": "stream",
     "text": [
      "+-------------------+-------------------+------------+------------+\n",
      "|    pickup_datetime|   dropoff_datetime|PULocationID|DOLocationID|\n",
      "+-------------------+-------------------+------------+------------+\n",
      "|2021-01-11 18:40:22|2021-01-11 19:15:49|         262|         231|\n",
      "|2021-01-05 15:13:22|2021-01-05 15:27:50|          61|         181|\n",
      "|2021-01-31 18:42:09|2021-01-31 18:59:52|         232|           4|\n",
      "|2021-01-27 22:24:36|2021-01-27 22:26:43|          68|          68|\n",
      "|2021-01-30 08:35:46|2021-01-30 08:39:42|         256|         255|\n",
      "|2021-01-16 02:25:35|2021-01-16 02:34:21|          89|          91|\n",
      "|2021-01-11 11:58:23|2021-01-11 12:14:19|          97|          61|\n",
      "|2021-01-03 07:44:58|2021-01-03 08:04:45|          26|         178|\n",
      "|2021-01-14 18:52:00|2021-01-14 19:19:00|         181|         198|\n",
      "|2021-01-08 20:35:35|2021-01-08 21:06:33|          76|          91|\n",
      "|2021-01-15 13:49:48|2021-01-15 14:35:23|         246|          16|\n",
      "|2021-01-27 10:37:56|2021-01-27 10:53:35|         135|          73|\n",
      "|2021-01-11 17:29:44|2021-01-11 17:42:49|          68|         211|\n",
      "|2021-01-24 21:32:15|2021-01-24 21:52:42|         249|         236|\n",
      "|2021-01-26 18:03:39|2021-01-26 18:10:53|          79|           4|\n",
      "|2021-01-07 08:05:32|2021-01-07 08:30:47|          22|          25|\n",
      "|2021-01-12 17:16:00|2021-01-12 17:25:56|          69|         119|\n",
      "|2021-01-16 21:00:39|2021-01-16 21:18:15|         239|         239|\n",
      "|2021-01-14 23:35:14|2021-01-14 23:45:30|          61|          62|\n",
      "|2021-01-17 23:23:11|2021-01-17 23:34:42|         241|          20|\n",
      "+-------------------+-------------------+------------+------------+\n",
      "only showing top 20 rows\n",
      "\n"
     ]
    }
   ],
   "source": [
    "# selecting certain column where param = true\n",
    "df_partitioned \\\n",
    "    .select('pickup_datetime', 'dropoff_datetime', 'PULocationID', 'DOLocationID') \\\n",
    "    .filter(df_partitioned.hvfhs_license_num == 'HV0003') \\\n",
    "    .show()"
   ]
  },
  {
   "cell_type": "code",
   "execution_count": 76,
   "id": "3018a4a5-3030-4016-b8cd-b158dbd94a32",
   "metadata": {},
   "outputs": [],
   "source": [
    "from pyspark.sql import functions as F\n",
    "from pyspark.sql.types import StringType"
   ]
  },
  {
   "cell_type": "code",
   "execution_count": 77,
   "id": "d2ca4db8-268c-4f22-bf0a-895a69b4ca11",
   "metadata": {},
   "outputs": [],
   "source": [
    "# example of defining custom functins in spark\n",
    "def crazy_stuff(base_num):\n",
    "    num = int(base_num[1:])\n",
    "    if num % 7 == 0:\n",
    "        return f's/{num:03x}'\n",
    "    elif num % 3 == 0:\n",
    "        return f'a/{num:03x}'\n",
    "    else:\n",
    "        return f'e/{num:03x}'"
   ]
  },
  {
   "cell_type": "code",
   "execution_count": 78,
   "id": "07d527c8-702b-4392-919c-1fbe3008589a",
   "metadata": {},
   "outputs": [
    {
     "data": {
      "text/plain": [
       "'s/b44'"
      ]
     },
     "execution_count": 78,
     "metadata": {},
     "output_type": "execute_result"
    }
   ],
   "source": [
    "crazy_stuff('B02884')"
   ]
  },
  {
   "cell_type": "code",
   "execution_count": 88,
   "id": "1db8059e-0f5c-485a-925d-5228191fe4b1",
   "metadata": {},
   "outputs": [],
   "source": [
    "# defining the function\n",
    "crazy_stuff_udf = F.udf(crazy_stuff, returnType=StringType())"
   ]
  },
  {
   "cell_type": "code",
   "execution_count": 90,
   "id": "ee27a98a-0d0c-4d3e-973d-da56d7dea8c6",
   "metadata": {},
   "outputs": [
    {
     "name": "stdout",
     "output_type": "stream",
     "text": [
      "+-----------+------------+------------+------------+\n",
      "|pickup_date|dropoff_date|PULocationID|DOLocationID|\n",
      "+-----------+------------+------------+------------+\n",
      "| 2021-01-11|  2021-01-11|         262|         231|\n",
      "| 2021-01-05|  2021-01-05|          61|         181|\n",
      "| 2021-01-02|  2021-01-02|         100|           1|\n",
      "| 2021-01-31|  2021-01-31|         232|           4|\n",
      "| 2021-01-05|  2021-01-05|         162|           1|\n",
      "| 2021-01-27|  2021-01-27|          68|          68|\n",
      "| 2021-01-18|  2021-01-18|         205|         205|\n",
      "| 2021-01-30|  2021-01-30|         256|         255|\n",
      "| 2021-01-16|  2021-01-16|          89|          91|\n",
      "| 2021-01-05|  2021-01-05|         132|         102|\n",
      "| 2021-01-11|  2021-01-11|          97|          61|\n",
      "| 2021-01-22|  2021-01-22|          79|          37|\n",
      "| 2021-01-03|  2021-01-03|          26|         178|\n",
      "| 2021-01-14|  2021-01-14|         181|         198|\n",
      "| 2021-01-08|  2021-01-08|          76|          91|\n",
      "| 2021-01-15|  2021-01-15|         246|          16|\n",
      "| 2021-01-27|  2021-01-27|         135|          73|\n",
      "| 2021-01-18|  2021-01-18|          74|         234|\n",
      "| 2021-01-11|  2021-01-11|          68|         211|\n",
      "| 2021-01-24|  2021-01-24|         249|         236|\n",
      "+-----------+------------+------------+------------+\n",
      "only showing top 20 rows\n",
      "\n"
     ]
    }
   ],
   "source": [
    "# creating new columns\n",
    "df_partitioned \\\n",
    "    .withColumn('pickup_date', F.to_date(df_partitioned.pickup_datetime)) \\\n",
    "    .withColumn('dropoff_date', F.to_date(df_partitioned.dropoff_datetime)) \\\n",
    "    .select('pickup_date', 'dropoff_date', 'PULocationID', 'DOLocationID') \\\n",
    "    .show()"
   ]
  }
 ],
 "metadata": {
  "kernelspec": {
   "display_name": "Python 3 (ipykernel)",
   "language": "python",
   "name": "python3"
  },
  "language_info": {
   "codemirror_mode": {
    "name": "ipython",
    "version": 3
   },
   "file_extension": ".py",
   "mimetype": "text/x-python",
   "name": "python",
   "nbconvert_exporter": "python",
   "pygments_lexer": "ipython3",
   "version": "3.11.5"
  }
 },
 "nbformat": 4,
 "nbformat_minor": 5
}
